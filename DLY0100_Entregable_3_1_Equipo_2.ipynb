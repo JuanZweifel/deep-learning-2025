{
  "cells": [
    {
      "cell_type": "markdown",
      "metadata": {
        "id": "mX8gZlVyCCbz",
        "cell_id": "6ba73254212049eca27cac96fecbee40",
        "deepnote_cell_type": "markdown"
      },
      "source": [
        "# Modelos del lenguaje con RNNs\n",
        "\n",
        "En esta parte, vamos a entrenar un modelo del lenguaje basado en caracteres con Recurrent Neural Networks. Asimismo, utilizaremos el modelo para generar texto. En particular, alimentaremos nuestro modelo con obras de la literatura clásica en castellano para obtener una red neuronal que sea capaz de \"escribir\" fragmentos literarios.\n",
        "\n",
        "Los entrenamientos para obtener un modelo de calidad podrían tomar cierto tiempo (5-10 minutos por epoch), por lo que se aconseja empezar a trabajar pronto. El uso de GPUs no ayuda tanto con LSTMs como con CNNs, por lo que si tenéis máquinas potentes en casa es posible que podáis entrenar más rápido o a la misma velocidad que en Colab. En todo caso, la potencia de Colab es más que suficiente para completar esta actividad con éxito.\n",
        "\n",
        "<center><img src=\"https://upload.wikimedia.org/wikipedia/commons/d/d8/El_ingenioso_hidalgo_don_Quijote_de_la_Mancha.jpg\" style=\"text-align: center\" height=\"300px\"></center>\n",
        "\n",
        "El dataset a utilizar consistirá en un archivo de texto con el contenido íntegro en castellano antiguo de El Ingenioso Hidalgo Don Quijote de la Mancha, disponible de manera libre en la página de [Project Gutenberg](https://www.gutenberg.org). Asimismo, como apartado optativo en este laboratorio se pueden utilizar otras fuentes de texto. Aquí podéis descargar los datos a utilizar de El Quijote y un par de obras adicionales:\n",
        "\n",
        "[El ingenioso hidalgo Don Quijote de la Mancha (Miguel de Cervantes)](https://onedrive.live.com/download?cid=C506CF0A4F373B0F&resid=C506CF0A4F373B0F%219424&authkey=AH0gb-qSo5Xd7Io)"
      ]
    },
    {
      "cell_type": "markdown",
      "metadata": {
        "id": "QI274F8LQC59",
        "cell_id": "cc76bcdb9c5f4cae9fae61d137e794e5",
        "deepnote_cell_type": "markdown"
      },
      "source": [
        "# 1. Carga y procesado del texto"
      ]
    },
    {
      "cell_type": "code",
      "metadata": {
        "id": "CZ62Ed0p9kRW",
        "cell_id": "37945810ffb44046abb70ef1d6019f18",
        "deepnote_cell_type": "code"
      },
      "source": [
        "import numpy as np\n",
        "import keras\n",
        "import random\n",
        "import re\n",
        "import matplotlib.pyplot as plt\n",
        "import time\n",
        "\n",
        "from tensorflow.keras.models import Sequential\n",
        "from tensorflow.keras.layers import LSTM, Dense, Embedding, Dropout\n",
        "from tensorflow.keras.optimizers import Adam\n",
        "from tensorflow.keras.callbacks import LambdaCallback\n",
        "from tensorflow.keras.callbacks import EarlyStopping\n",
        "from tensorflow.keras.preprocessing.text import Tokenizer\n",
        "from tensorflow.keras.preprocessing.sequence import pad_sequences\n",
        "from random import sample as sample_rand\n",
        "\n",
        "from pprint import pprint\n",
        "from tabulate import tabulate\n",
        "\n",
        "import warnings\n",
        "warnings.filterwarnings(\"ignore\", category=RuntimeWarning)\n"
      ],
      "execution_count": null,
      "outputs": []
    },
    {
      "cell_type": "markdown",
      "metadata": {
        "id": "MZNnzvXuqVVm",
        "cell_id": "eb9031dadf1848d098c3e84f41e856a9",
        "deepnote_cell_type": "markdown"
      },
      "source": [
        "Primero, vamos a descargar el libro e inspeccionar los datos. El fichero a descargar es una versión en .txt del libro de Don Quijote, a la cual se le han borrado introducciones, licencias y otras secciones para dejarlo con el contenido real de la novela."
      ]
    },
    {
      "cell_type": "code",
      "metadata": {
        "id": "D7tKOZ9BFfki",
        "colab": {
          "base_uri": "https://localhost:8080/"
        },
        "outputId": "1b14996a-cd1b-4bb4-f3c6-893f0952d446",
        "cell_id": "25b62cfea9ab4545ae0a3458dd0444ae",
        "deepnote_cell_type": "code"
      },
      "source": [
        "path = keras.utils.get_file(\n",
        "    fname=\"don_quijote.txt\",\n",
        "    origin=\" https://raw.githubusercontent.com/JaznaLaProfe/Deep-Learning/main/textos/Don_Quijote_de_la_Mancha.txt\"\n",
        ")"
      ],
      "execution_count": null,
      "outputs": [
        {
          "output_type": "stream",
          "name": "stdout",
          "text": "Downloading data from  https://raw.githubusercontent.com/JaznaLaProfe/Deep-Learning/main/textos/Don_Quijote_de_la_Mancha.txt\n\u001b[1m2151176/2151176\u001b[0m \u001b[32m━━━━━━━━━━━━━━━━━━━━\u001b[0m\u001b[37m\u001b[0m \u001b[1m0s\u001b[0m 0us/step\n"
        }
      ]
    },
    {
      "cell_type": "markdown",
      "metadata": {
        "id": "VYGLvjLXrUUd",
        "cell_id": "db240de6502e4bf795c6fb9c0e21f405",
        "deepnote_cell_type": "markdown"
      },
      "source": [
        "Se abre y lee el contenido del archivo de texto codificado en UTF-8, convirtiéndolo completamente a minúsculas para reducir la dimensionalidad del vocabulario. Luego, se aplica una limpieza básica con expresiones regulares para eliminar todos los caracteres no deseados, conservando únicamente letras (incluyendo tildes y diéresis del español), signos de puntuación y saltos de línea."
      ]
    },
    {
      "cell_type": "code",
      "metadata": {
        "id": "8WB6FejrrTu9",
        "colab": {
          "base_uri": "https://localhost:8080/"
        },
        "outputId": "6baf43fd-0af0-40da-cd11-7b7e793d05f0",
        "cell_id": "70617e76fe714db1b0be2e35638825cd",
        "deepnote_cell_type": "code"
      },
      "source": [
        "# Abrir y leer el contenido\n",
        "with open(path, 'r', encoding='utf-8') as f:\n",
        "    texto = f.read().lower()\n",
        "\n",
        "texto = re.sub(r\"[^a-záéíóúüñ¡¿ \\n\\.,:;!\\?\\\"'\\(\\)\\-]\", \"\", texto)\n",
        "\n",
        "print(\"Longitud del texto: {}\".format(len(texto)))\n",
        "print(texto[0:300])"
      ],
      "execution_count": null,
      "outputs": [
        {
          "output_type": "stream",
          "name": "stdout",
          "text": "Longitud del texto: 2070830\ncapítulo primero. que trata de la condición y ejercicio del famoso hidalgo\ndon quijote de la mancha\n\n\nen un lugar de la mancha, de cuyo nombre no quiero acordarme, no ha mucho\ntiempo que vivía un hidalgo de los de lanza en astillero, adarga antigua,\nrocín flaco y galgo corredor. una olla de algo más\n"
        }
      ]
    },
    {
      "cell_type": "markdown",
      "metadata": {
        "id": "dkgGl8GWtUk8",
        "cell_id": "6d99c5859fc24de68692f7a37f8081be",
        "deepnote_cell_type": "markdown"
      },
      "source": [
        "Podemos comprobar ahora que efectivamente nuestra variable contiene el resultado deseado."
      ]
    },
    {
      "cell_type": "markdown",
      "metadata": {
        "id": "bZ7TUXWiyvOj",
        "cell_id": "d995e27c08214688a66e5b72b8b74b89",
        "deepnote_cell_type": "markdown"
      },
      "source": [
        "# 2. Procesado de los datos"
      ]
    },
    {
      "cell_type": "markdown",
      "metadata": {
        "id": "x66_Vi_Gyxns",
        "cell_id": "fa0c18bc9a2c4781a10456c8b1e9708d",
        "deepnote_cell_type": "markdown"
      },
      "source": [
        "Una de las grandes ventajas de trabajar con modelos que utilizan caracteres en vez de palabras es que no necesitamos tokenizar el texto (partirlo palabra a palabra). Nuestro modelo funcionará directamente con los caracteres en el texto, incluyendo espacios, saltos de línea, etc.\n",
        "\n",
        "Antes de hacer nada, necesitamos procesar el texto en entradas y salidas compatibles con nuestro modelo. Como sabemos, un modelo del lenguaje con RNNs acepta una serie de caracteres y predice el siguiente carácter en la secuencia.\n",
        "\n",
        "* \"*El ingenioso don Qui*\" -> predicción: **j**\n",
        "* \"*El ingenioso don Quij*\" -> predicción: **o**\n",
        "\n",
        "De modo que la entrada y la salida de nuestro modelo necesita ser algo parecido a este esquema. En este punto, podríamos usar dos formas de preparar los datos para nuestro modelo.\n",
        "\n",
        "1. **Secuencia a secuencia**. La entrada de nuestro modelo sería una secuencia y la salida sería esa secuencia trasladada un caracter a la derecha, de modo que en cada instante de tiempo la RNN tiene que predecir el carácter siguiente. Por ejemplo:\n",
        "\n",
        ">* *Input*:   El ingenioso don Quijot\n",
        ">* *Output*: l ingenioso don Quijote\n",
        "\n",
        "2. **Secuencia a carácter**. En este variante, pasaríamos una secuencia de caracteres por nuestra RNN y, al llegar al final de la secuencia, predeciríamos el siguiente carácter.\n",
        "\n",
        ">* *Input*:   El ingenioso don Quijot\n",
        ">* *Output*: e\n",
        "\n",
        "Por simplicidad, vamos a utilizar la segunda variante.\n",
        "\n",
        "De este modo, a partir del texto, hemos de generar nuestro propio training data que consista en secuencias de caracteres con el siguiente carácter a predecir. Para estandarizar las cosas, utilizaremos secuencias de tamaño *SEQ_LENGTH* caracteres (un hiperparámetro que podemos elegir nosotros).\n",
        "\n"
      ]
    },
    {
      "cell_type": "markdown",
      "metadata": {
        "id": "mkfJUIxW5m5C",
        "cell_id": "02829e8d883343c9845bb9edf9fdc66b",
        "deepnote_cell_type": "markdown"
      },
      "source": [
        "## 2.1. Obtención de los caracteres y mapas de caracteres\n",
        "\n",
        "Para procesar el texto carácter por carácter, es necesario identificar todos los símbolos distintos presentes en el corpus. A partir de esto, se genera:\n",
        "\n",
        "1. El número total de caracteres únicos que componen el vocabulario del modelo (num_chars).\n",
        "2. Un diccionario de codificación (char_to_idx) que asigna a cada carácter un índice único entre 0 y num_chars - 1.\n",
        "3. Un diccionario de decodificación inverso (idx_to_char) que permite reconstruir el texto a partir de las salidas del modelo.\n",
        "\n",
        "Estos mapeos permiten transformar el texto en una representación numérica que puede ser utilizada como entrada para el modelo LSTM, y son también esenciales para interpretar sus salidas en la etapa de generación de texto."
      ]
    },
    {
      "cell_type": "code",
      "metadata": {
        "id": "5bJ0NsbCbupF",
        "colab": {
          "base_uri": "https://localhost:8080/"
        },
        "outputId": "2add6eeb-0ecf-4637-c8a9-a0025ea13d25",
        "cell_id": "5a67cb0ff9474d469bb7cafdd9887804",
        "deepnote_cell_type": "code"
      },
      "source": [
        "caracteres_unicos = sorted(set(texto))\n",
        "num_chars = len(caracteres_unicos)\n",
        "print(num_chars)\n",
        "\n",
        "char_to_idx = {char: idx for idx, char in enumerate(caracteres_unicos)}\n",
        "idx_to_char = {idx: char for char, idx in char_to_idx.items()}\n",
        "pprint(char_to_idx)\n",
        "pprint(idx_to_char)\n"
      ],
      "execution_count": null,
      "outputs": [
        {
          "output_type": "stream",
          "name": "stdout",
          "text": "47\n{'\\n': 0,\n ' ': 1,\n '!': 2,\n '\"': 3,\n \"'\": 4,\n '(': 5,\n ')': 6,\n ',': 7,\n '-': 8,\n '.': 9,\n ':': 10,\n ';': 11,\n '?': 12,\n 'a': 13,\n 'b': 14,\n 'c': 15,\n 'd': 16,\n 'e': 17,\n 'f': 18,\n 'g': 19,\n 'h': 20,\n 'i': 21,\n 'j': 22,\n 'l': 23,\n 'm': 24,\n 'n': 25,\n 'o': 26,\n 'p': 27,\n 'q': 28,\n 'r': 29,\n 's': 30,\n 't': 31,\n 'u': 32,\n 'v': 33,\n 'w': 34,\n 'x': 35,\n 'y': 36,\n 'z': 37,\n '¡': 38,\n '¿': 39,\n 'á': 40,\n 'é': 41,\n 'í': 42,\n 'ñ': 43,\n 'ó': 44,\n 'ú': 45,\n 'ü': 46}\n{0: '\\n',\n 1: ' ',\n 2: '!',\n 3: '\"',\n 4: \"'\",\n 5: '(',\n 6: ')',\n 7: ',',\n 8: '-',\n 9: '.',\n 10: ':',\n 11: ';',\n 12: '?',\n 13: 'a',\n 14: 'b',\n 15: 'c',\n 16: 'd',\n 17: 'e',\n 18: 'f',\n 19: 'g',\n 20: 'h',\n 21: 'i',\n 22: 'j',\n 23: 'l',\n 24: 'm',\n 25: 'n',\n 26: 'o',\n 27: 'p',\n 28: 'q',\n 29: 'r',\n 30: 's',\n 31: 't',\n 32: 'u',\n 33: 'v',\n 34: 'w',\n 35: 'x',\n 36: 'y',\n 37: 'z',\n 38: '¡',\n 39: '¿',\n 40: 'á',\n 41: 'é',\n 42: 'í',\n 43: 'ñ',\n 44: 'ó',\n 45: 'ú',\n 46: 'ü'}\n"
        }
      ]
    },
    {
      "cell_type": "markdown",
      "metadata": {
        "id": "Y_B4AWo0ElwA",
        "cell_id": "2e5c915f53f846e4ac99c85574776bbb",
        "deepnote_cell_type": "markdown"
      },
      "source": [
        "### 2.2. Obtención de secuencias de entrada y carácter a predecir\n",
        "\n",
        "Ahora, vamos a obtener las secuencias de entrada en formato texto y los correspondientes caracteres a predecir. Para ello, recorrer el texto completo leído anteriormente, obteniendo una secuencia de SEQ_LENGTH caracteres y el siguiente caracter a predecir. Una vez hecho, desplazarse un carácter a la izquierda y hacer lo mismo para obtener una nueva secuencia y predicción. Guardar las secuencias en una variable ***sequences*** y los caracteres a predecir en una variable ***next_chars***.\n",
        "\n",
        "Por ejemplo, si el texto fuera \"Don Quijote\" y SEQ_LENGTH fuese 5, tendríamos\n",
        "\n",
        "* *sequences* = [\"Don Q\", \"on Qu\", \"n Qui\", \" Quij\", \"Quijo\", \"uijot\"]\n",
        "* *next_chars* = ['u', 'i', 'j', 'o', 't', 'e']"
      ]
    },
    {
      "cell_type": "code",
      "metadata": {
        "id": "NslxhnnDK6uA",
        "cell_id": "7f84b5b4b80441b09bab3e5921a28126",
        "deepnote_cell_type": "code"
      },
      "source": [
        "# Definimos el tamaño de las secuencias. Puedes dejar este valor por defecto.\n",
        "SEQ_LENGTH = 30\n",
        "\n",
        "sequences = []\n",
        "next_chars = []\n",
        "\n",
        "for i in range(len(texto) - SEQ_LENGTH):\n",
        "  sequences.append(texto[i:i + SEQ_LENGTH])\n",
        "  next_chars.append(texto[i + SEQ_LENGTH])"
      ],
      "execution_count": null,
      "outputs": []
    },
    {
      "cell_type": "markdown",
      "metadata": {
        "id": "1Y3AmjYtHdLJ",
        "cell_id": "4449568a06ac44628f94de32e151dc8d",
        "deepnote_cell_type": "markdown"
      },
      "source": [
        "Indicar el tamaño del training set que acabamos de generar."
      ]
    },
    {
      "cell_type": "code",
      "metadata": {
        "id": "WVWqKxFcbwTu",
        "colab": {
          "base_uri": "https://localhost:8080/"
        },
        "outputId": "23b3bfc5-a0fc-4cd1-d388-5d6720c54fee",
        "cell_id": "2d25f0cf2397403d986d13c86ada179b",
        "deepnote_cell_type": "code"
      },
      "source": [
        "print(len(sequences))"
      ],
      "execution_count": null,
      "outputs": [
        {
          "output_type": "stream",
          "name": "stdout",
          "text": "2070800\n"
        }
      ]
    },
    {
      "cell_type": "markdown",
      "metadata": {
        "id": "goGQkKcwpLRJ",
        "cell_id": "e2f0a0e6100447b0afa7d5804f742a1d",
        "deepnote_cell_type": "markdown"
      },
      "source": [
        "Como el Quijote es muy largo y tenemos muchas secuencias, podríamos encontrar problemas de memoria. Por ello, vamos a elegir un número máximo de ellas. Si estás corriendo esto localmente y tienes problemas de memoria, puedes reducir el tamaño aún más, pero ten cuidado porque, a menos datos, peor calidad del modelo."
      ]
    },
    {
      "cell_type": "code",
      "metadata": {
        "id": "2pm1Q19ppw8F",
        "cell_id": "60ff71db003a4515b05f00864e5805a0",
        "deepnote_cell_type": "code"
      },
      "source": [
        "MAX_SEQUENCES = 2000000       # Para tokenización (Embedding)\n",
        "MAX_SEQUENCES_ONEHOT = 290000     # Para one-hot (usa menos por RAM)\n",
        "\n",
        "perm = np.random.permutation(len(sequences))\n",
        "sequences, next_chars = np.array(sequences), np.array(next_chars)\n",
        "sequences, next_chars = sequences[perm], next_chars[perm]\n"
      ],
      "execution_count": null,
      "outputs": []
    },
    {
      "cell_type": "markdown",
      "metadata": {
        "id": "4FzgtAbPIs6f",
        "cell_id": "dd8414c5b38f4662b26a281d774081f1",
        "deepnote_cell_type": "markdown"
      },
      "source": [
        "### 2.3. Obtención de input X y output y para el modelo\n",
        "\n",
        "Finalmente, a partir de los datos de entrenamiento que hemos generado vamos a crear los arrays de datos X e y que pasaremos a nuestro modelo."
      ]
    },
    {
      "cell_type": "markdown",
      "metadata": {
        "id": "gjZCNtTKYgcI",
        "cell_id": "0cc09527f112465196ca989e7fb394e8",
        "deepnote_cell_type": "markdown"
      },
      "source": [
        "#### Dataset Embedding"
      ]
    },
    {
      "cell_type": "markdown",
      "metadata": {
        "id": "1KKokJMznMeG",
        "cell_id": "bde168eb09b747a6b851493afe7c05dc",
        "deepnote_cell_type": "markdown"
      },
      "source": [
        "Se construyen las matrices de entrada (X) y salida (y) que alimentarán al modelo LSTM para la tarea de generación de texto carácter a carácter. Para limitar la cantidad de datos procesados, se seleccionan las primeras MAX_SEQUENCES secuencias del corpus.\n",
        "\n",
        "Cada secuencia de entrada se transforma en una matriz de enteros mediante un diccionario de mapeo char_to_idx, mientras que la salida corresponde al carácter siguiente a cada secuencia, también representado como entero. Esta representación discreta permite posteriormente el uso de una capa de embedding, que aprenderá relaciones semánticas entre caracteres durante el entrenamiento, a diferencia del enfoque tradicional basado en codificación one-hot."
      ]
    },
    {
      "cell_type": "code",
      "metadata": {
        "id": "YaP0_4MXv_es",
        "colab": {
          "base_uri": "https://localhost:8080/"
        },
        "outputId": "e9eaeaf6-cf73-4a0a-8b2c-eb4ec04bcacb",
        "cell_id": "49f9b99953644772a7877c2eb69e17be",
        "deepnote_cell_type": "code"
      },
      "source": [
        "sequences_embed = sequences[:MAX_SEQUENCES]\n",
        "next_chars_embed = next_chars[:MAX_SEQUENCES]\n",
        "\n",
        "X = np.zeros((MAX_SEQUENCES, SEQ_LENGTH), dtype=np.int32)   # Mantiene el nombre original\n",
        "y = np.zeros((MAX_SEQUENCES,), dtype=np.int32)\n",
        "\n",
        "for i, seq in enumerate(sequences_embed):\n",
        "    for t, char in enumerate(seq):\n",
        "        X[i, t] = char_to_idx[char]\n",
        "    y[i] = char_to_idx[next_chars_embed[i]]\n",
        "\n",
        "print(f\"[EMBED] X shape: {X.shape}\")\n",
        "print(f\"[EMBED] y shape: {y.shape}\")\n"
      ],
      "execution_count": null,
      "outputs": [
        {
          "output_type": "stream",
          "name": "stdout",
          "text": "[EMBED] X shape: (2000000, 30)\n[EMBED] y shape: (2000000,)\n"
        }
      ]
    },
    {
      "cell_type": "markdown",
      "metadata": {
        "id": "ZeVNQ9gtYm9-",
        "cell_id": "dc0ee87c6810452baed3caaeb4b76830",
        "deepnote_cell_type": "markdown"
      },
      "source": [
        "#### Dataset One hot"
      ]
    },
    {
      "cell_type": "markdown",
      "metadata": {
        "cell_id": "305904bed15a47d4807ccdce0386df9b",
        "deepnote_cell_type": "markdown",
        "id": "T-BMXLRcbVHd"
      },
      "source": [
        "Se construye las matrices de entrada y salida para un modelo LSTM que utiliza codificación one-hot, sin capa de embedding. Se limita la cantidad de datos mediante el parámetro MAX_SEQUENCES_ONEHOT.\n",
        "\n",
        "Cada carácter en las secuencias se representa como un vector binario de dimensión num_chars, donde solo una posición es 1 (correspondiente al índice del carácter) y el resto son ceros.\n",
        "\n",
        "Este enfoque, aunque menos eficiente en memoria que el uso de embeddings, permite que el modelo procese directamente la distribución completa del vocabulario en cada paso de la secuencia, lo cual puede ser útil en contextos donde se requiere un control más explícito sobre la representación del texto."
      ]
    },
    {
      "cell_type": "code",
      "metadata": {
        "id": "6diNWkseYoyG",
        "colab": {
          "base_uri": "https://localhost:8080/"
        },
        "outputId": "6061c59a-876f-454f-bc6b-82e1b232dc44",
        "cell_id": "4138c406979f4b918ff35e664ad3ac35",
        "deepnote_cell_type": "code"
      },
      "source": [
        "sequences_1hot = sequences[:MAX_SEQUENCES_ONEHOT]\n",
        "next_chars_1hot = next_chars[:MAX_SEQUENCES_ONEHOT]\n",
        "\n",
        "X_1hot = np.zeros((MAX_SEQUENCES_ONEHOT, SEQ_LENGTH, num_chars), dtype=np.bool_)\n",
        "y_1hot = np.zeros((MAX_SEQUENCES_ONEHOT, num_chars), dtype=np.bool_)\n",
        "\n",
        "for i, seq in enumerate(sequences_1hot):\n",
        "    for t, char in enumerate(seq):\n",
        "        X_1hot[i, t, char_to_idx[char]] = 1\n",
        "    y_1hot[i, char_to_idx[next_chars_1hot[i]]] = 1\n",
        "\n",
        "print(f\"[ONE-HOT] X_1hot shape: {X_1hot.shape}\")\n",
        "print(f\"[ONE-HOT] y_1hot shape: {y_1hot.shape}\")"
      ],
      "execution_count": null,
      "outputs": [
        {
          "output_type": "stream",
          "name": "stdout",
          "text": "[ONE-HOT] X_1hot shape: (290000, 30, 47)\n[ONE-HOT] y_1hot shape: (290000, 47)\n"
        }
      ]
    },
    {
      "cell_type": "markdown",
      "metadata": {
        "id": "IxeUxz3HPm3l",
        "cell_id": "7e1bc3d984154f61ae0326881a6bbfd3",
        "deepnote_cell_type": "markdown"
      },
      "source": [
        "# 3. Definición del los modelos y entrenamientos\n",
        "\n",
        "En esta sección se presenta la arquitectura de los modelos diseñados para la generación de texto a partir del corpus procesado. Se describen las configuraciones específicas, incluyendo el tratamiento de los datos de entrada (carácter a carácter y palabra por palabra), las capas utilizadas y los hiperparámetros seleccionados. Además, se detallan los procedimientos de entrenamiento aplicados, así como las estrategias para la evaluación y generación de texto, con el fin de analizar el desempeño y las capacidades de cada modelo."
      ]
    },
    {
      "cell_type": "markdown",
      "metadata": {
        "cell_id": "6297bd363fd442b99f703b96c2a57bcd",
        "deepnote_cell_type": "markdown",
        "id": "1ZAnVMHQbVHd"
      },
      "source": [
        "## Consideraciones previas al entrenamiento"
      ]
    },
    {
      "cell_type": "markdown",
      "metadata": {
        "cell_id": "7b089de31dae41c9b56c6998cf4bce66",
        "deepnote_cell_type": "markdown",
        "id": "Q3Cy4bkJbVHd"
      },
      "source": [
        "- En este trabajo se utilizó exclusivamente la función de **pérdida (loss)** como métrica principal para evaluar el desempeño de los modelos debido a la naturaleza del problema de generación de texto secuencial. La pérdida, calculada mediante sparse categorical crossentropy o categorical crossentropy en el caso del dataset con one-hot, refleja directamente la capacidad del modelo para ajustar la distribución de probabilidad sobre las siguientes unidades (caracteres o palabras) en la secuencia, lo cual es fundamental para la calidad del texto generado. Otras métricas como **accuracy** o **F1-score**, aunque comúnmente usadas en tareas de clasificación, resultan menos informativas en este contexto porque no capturan completamente la coherencia y fluidez de secuencias generadas de forma autoregresiva.\n",
        "\n",
        "- **Definicion tipo de red**: Se utilizaron redes LSTM en lugar de RNN simples porque el texto de Don Quijote presenta secuencias largas y complejas, con dependencias que pueden abarcar muchas palabras. Las RNN tienen dificultades para capturar estas relaciones debido al problema del desvanecimiento del gradiente, mientras que las LSTM, gracias a sus mecanismos de memoria, pueden retener información relevante durante más tiempo. Esto permite una mejor comprensión del contexto y una generación de texto más coherente y fluida, lo cual es clave en el procesamiento de obras literarias extensas."
      ]
    },
    {
      "cell_type": "markdown",
      "metadata": {
        "cell_id": "083a6fbb931341d8bbc886f9d9e7923d",
        "deepnote_cell_type": "markdown",
        "id": "dfe_2jt5bVHd"
      },
      "source": [
        "## Funciones de generación de texto"
      ]
    },
    {
      "cell_type": "code",
      "metadata": {
        "id": "xOEZvnBXkODd",
        "cell_id": "fd1eb11aa42b4fad801611d82078294a",
        "deepnote_cell_type": "code"
      },
      "source": [
        "def sample(probs, temperature=1.0):\n",
        "    \"\"\"Nos da el índice del elemento a elegir según la distribución\n",
        "    de probabilidad dada por probs.\n",
        "\n",
        "    Args:\n",
        "      probs es la salida dada por una capa softmax:\n",
        "        probs = model.predict(x_to_predict)[0]\n",
        "\n",
        "      temperature es un parámetro que nos permite obtener mayor\n",
        "        \"diversidad\" a la hora de obtener resultados.\n",
        "\n",
        "        temperature = 1 nos da la distribución normal de softmax\n",
        "        0 < temperature < 1 hace que el sampling sea más conservador,\n",
        "          de modo que sampleamos cosas de las que estamos más seguros\n",
        "        temperature > 1 hace que los samplings sean más atrevidos,\n",
        "          eligiendo en más ocasiones clases con baja probabilidad.\n",
        "          Con esto, tenemos mayor diversidad pero se cometen más\n",
        "          errores.\n",
        "    \"\"\"\n",
        "    # Cast a float64 por motivos numéricos\n",
        "    probs = np.asarray(probs).astype('float64')\n",
        "\n",
        "    # Hacemos logaritmo de probabilidades y aplicamos reducción\n",
        "    # por temperatura.\n",
        "    probs = np.log(probs) / temperature\n",
        "\n",
        "    # Volvemos a aplicar exponencial y normalizamos de nuevo\n",
        "    exp_probs = np.exp(probs)\n",
        "    probs = exp_probs / np.sum(exp_probs)\n",
        "\n",
        "    # Hacemos el sampling dadas las nuevas probabilidades\n",
        "    # de salida (ver doc. de np.random.multinomial)\n",
        "    samples = np.random.multinomial(1, probs, 1)\n",
        "    return np.argmax(samples)\n",
        "\n",
        "TEMPERATURES_TO_TRY = [0.2, 0.5, 1.0, 1.2]\n",
        "GENERATED_TEXT_LENGTH = 300\n",
        "\n",
        "def generate_text(seed_text, model, length, temperature=1):\n",
        "    generated = seed_text\n",
        "    sentence = seed_text\n",
        "\n",
        "    for _ in range(length):\n",
        "        x_pred = np.zeros((1, SEQ_LENGTH, num_chars))\n",
        "        for t, char in enumerate(sentence):\n",
        "            if char in char_to_idx:\n",
        "                x_pred[0, t, char_to_idx[char]] = 1\n",
        "\n",
        "        preds = model.predict(x_pred, verbose=0)[0]\n",
        "        next_index = sample(preds, temperature)\n",
        "        next_char = idx_to_char[next_index]\n",
        "\n",
        "        generated += next_char\n",
        "        sentence = sentence[1:] + next_char\n",
        "\n",
        "    return generated\n",
        "\n",
        "def generate_text_emb(seed_text, model, length, temperature=1):\n",
        "    generated = seed_text\n",
        "    sentence = seed_text\n",
        "\n",
        "    for _ in range(length):\n",
        "        # Convertir la frase actual en una secuencia de índices\n",
        "        x_pred = np.zeros((1, SEQ_LENGTH), dtype=np.int32)\n",
        "        for t, char in enumerate(sentence):\n",
        "            if char in char_to_idx:\n",
        "                x_pred[0, t] = char_to_idx[char]\n",
        "            else:\n",
        "                x_pred[0, t] = 0\n",
        "\n",
        "        # Predecir el siguiente carácter\n",
        "        preds = model.predict(x_pred, verbose=0)[0]\n",
        "        next_index = sample(preds, temperature)\n",
        "        next_char = idx_to_char[next_index]\n",
        "\n",
        "        # Añadir carácter generado al texto\n",
        "        generated += next_char\n",
        "\n",
        "        # Actualizar ventana de entrada\n",
        "        sentence = sentence[1:] + next_char\n",
        "\n",
        "    return generated\n",
        "\n",
        "def generate_text_token(seed_text, model, tokenizer, max_sequence_len, length, temperature=1):\n",
        "    generated = seed_text\n",
        "\n",
        "    for _ in range(length):\n",
        "        # Convertir texto a secuencia de índices\n",
        "        token_list = tokenizer.texts_to_sequences([generated])[0]\n",
        "\n",
        "        # Tomar solo los últimos max_sequence_len-1 tokens para input\n",
        "        token_list = token_list[-(max_sequence_len-1):]\n",
        "\n",
        "        # Padding para que tenga la longitud correcta\n",
        "        token_list_padded = pad_sequences(\n",
        "            [token_list], maxlen=max_sequence_len-1, padding='pre'\n",
        "        )\n",
        "\n",
        "        # Predecir siguiente token (probabilidades)\n",
        "        preds = model.predict(token_list_padded, verbose=0)[0]\n",
        "\n",
        "        # Usar sampling con temperatura para elegir índice del siguiente token\n",
        "        next_index = sample(preds, temperature)\n",
        "\n",
        "        # Obtener la palabra correspondiente al índice\n",
        "        for word, index in tokenizer.word_index.items():\n",
        "            if index == next_index:\n",
        "                next_word = word\n",
        "                break\n",
        "        else:\n",
        "            next_word = ''  # fallback en caso no encontrado\n",
        "\n",
        "        # Añadir palabra generada\n",
        "        generated += ' ' + next_word\n",
        "\n",
        "    return generated"
      ],
      "execution_count": null,
      "outputs": []
    },
    {
      "cell_type": "markdown",
      "metadata": {
        "cell_id": "12e698e05ebf48d388f757aa104ae53c",
        "deepnote_cell_type": "markdown",
        "id": "g_cpSBsMbVHe"
      },
      "source": [
        "1. **sample**: Ajusta la distribución de probabilidad predicha por el modelo usando un parámetro de temperatura para controlar la diversidad del muestreo, permitiendo elegir resultados más conservadores o más creativos.\n",
        "2. **generate_text**: genera texto carácter por carácter usando una codificación one-hot, prediciendo y muestreando el siguiente carácter iterativamente según la temperatura.\n",
        "3. **generate_text_emb**: genera texto carácter por carácter usando codificación por índices (embedding), preparando la entrada como secuencia de enteros y muestreando el siguiente carácter.\n",
        "4. **generate_text_token**: genera texto palabra por palabra a partir de un tokenizer, convirtiendo el texto generado en secuencias tokenizadas con padding para predecir y muestrear la siguiente palabra iterativamente."
      ]
    },
    {
      "cell_type": "markdown",
      "metadata": {
        "cell_id": "7ef91474450b488bbb4af204de22dfad",
        "deepnote_cell_type": "markdown",
        "id": "gurEah2CbVHe"
      },
      "source": [
        "## Callbacks"
      ]
    },
    {
      "cell_type": "markdown",
      "metadata": {
        "cell_id": "cd0d6e4c4ce04a26b1d9d720332d8be8",
        "deepnote_cell_type": "markdown",
        "id": "f8xETx9cbVHe"
      },
      "source": [
        "Se utilizo el callback EarlyStopping, que detiene el entrenamiento si la pérdida no mejora durante 3 épocas consecutivas, evitando sobreentrenamiento."
      ]
    },
    {
      "cell_type": "code",
      "metadata": {
        "id": "02qiee__0eXd",
        "cell_id": "8f0d4629910b4a9b89224368091e7781",
        "deepnote_cell_type": "code"
      },
      "source": [
        "early_stopping = EarlyStopping(\n",
        "    monitor='loss',     # Métrica a observar\n",
        "    patience=3,             # Número de épocas sin mejora antes de detener\n",
        "    restore_best_weights=True  # Restaura los pesos con mejor val_loss\n",
        ")"
      ],
      "execution_count": null,
      "outputs": []
    },
    {
      "cell_type": "markdown",
      "metadata": {
        "id": "pUfiJP-1CLTc",
        "cell_id": "f0ff98cf9a4d42cf9abb88fe48011b72",
        "deepnote_cell_type": "markdown"
      },
      "source": [
        "## LSTM con One-hot"
      ]
    },
    {
      "cell_type": "markdown",
      "metadata": {
        "id": "-bs5F0tt6OuQ",
        "cell_id": "499018cfc41f4998b36f159888bd36c8",
        "deepnote_cell_type": "markdown"
      },
      "source": [
        "### Arquitectura\n"
      ]
    },
    {
      "cell_type": "markdown",
      "metadata": {
        "cell_id": "074e59e5935d4165a02cff0634159a5c",
        "deepnote_cell_type": "markdown",
        "id": "nQSJq25vbVHf"
      },
      "source": [
        "El modelo \"modelo_LSTM_onehot\" está definido como una red secuencial con dos capas principales:\n",
        "\n",
        "**Capa LSTM**: Esta capa contiene 128 unidades recurrentes y se encarga de procesar secuencias de entrada ya codificadas en formato one-hot. Su objetivo es capturar dependencias temporales en el texto, permitiendo al modelo aprender patrones en la secuencia de caracteres.\n",
        "\n",
        "**Capa Densa (Salida)**: Utiliza una activación softmax para generar una distribución de probabilidad sobre todos los caracteres del vocabulario, permitiendo predecir el carácter siguiente en la secuencia.\n",
        "\n",
        "El modelo se compila con el optimizador Adam y la función de pérdida categorical_crossentropy."
      ]
    },
    {
      "cell_type": "code",
      "metadata": {
        "id": "5GaV-Ndmns9m",
        "colab": {
          "height": 259,
          "base_uri": "https://localhost:8080/"
        },
        "outputId": "5eca24ee-3ece-45d6-c655-2003af8461cc",
        "cell_id": "2feac4a618444eb58f4c93effc5f350f",
        "deepnote_cell_type": "code"
      },
      "source": [
        "model_onehot = Sequential(name=\"modelo_LSTM_onehot\")\n",
        "\n",
        "# Entrada ya está one-hot encoded: (SEQ_LENGTH, vocab_size)\n",
        "model_onehot.add(LSTM(128, input_shape=(SEQ_LENGTH, num_chars), name=\"LSTM\"))\n",
        "\n",
        "# Capa de salida\n",
        "model_onehot.add(Dense(num_chars, activation='softmax', name=\"Salida\"))\n",
        "\n",
        "# Compilar modelo\n",
        "model_onehot.compile(loss='categorical_crossentropy', optimizer='adam', metrics=['accuracy'])\n",
        "\n",
        "# Mostrar resumen\n",
        "model_onehot.summary()"
      ],
      "execution_count": null,
      "outputs": [
        {
          "output_type": "stream",
          "name": "stderr",
          "text": "/usr/local/lib/python3.11/dist-packages/keras/src/layers/rnn/rnn.py:200: UserWarning: Do not pass an `input_shape`/`input_dim` argument to a layer. When using Sequential models, prefer using an `Input(shape)` object as the first layer in the model instead.\n  super().__init__(**kwargs)\n"
        },
        {
          "output_type": "display_data",
          "data": {
            "text/plain": "\u001b[1mModel: \"modelo_LSTM_onehot\"\u001b[0m\n",
            "text/html": "<pre style=\"white-space:pre;overflow-x:auto;line-height:normal;font-family:Menlo,'DejaVu Sans Mono',consolas,'Courier New',monospace\"><span style=\"font-weight: bold\">Model: \"modelo_LSTM_onehot\"</span>\n</pre>\n"
          },
          "metadata": {}
        },
        {
          "output_type": "display_data",
          "data": {
            "text/plain": "┏━━━━━━━━━━━━━━━━━━━━━━━━━━━━━━━━━┳━━━━━━━━━━━━━━━━━━━━━━━━┳━━━━━━━━━━━━━━━┓\n┃\u001b[1m \u001b[0m\u001b[1mLayer (type)                   \u001b[0m\u001b[1m \u001b[0m┃\u001b[1m \u001b[0m\u001b[1mOutput Shape          \u001b[0m\u001b[1m \u001b[0m┃\u001b[1m \u001b[0m\u001b[1m      Param #\u001b[0m\u001b[1m \u001b[0m┃\n┡━━━━━━━━━━━━━━━━━━━━━━━━━━━━━━━━━╇━━━━━━━━━━━━━━━━━━━━━━━━╇━━━━━━━━━━━━━━━┩\n│ LSTM (\u001b[38;5;33mLSTM\u001b[0m)                     │ (\u001b[38;5;45mNone\u001b[0m, \u001b[38;5;34m128\u001b[0m)            │        \u001b[38;5;34m90,112\u001b[0m │\n├─────────────────────────────────┼────────────────────────┼───────────────┤\n│ Salida (\u001b[38;5;33mDense\u001b[0m)                  │ (\u001b[38;5;45mNone\u001b[0m, \u001b[38;5;34m47\u001b[0m)             │         \u001b[38;5;34m6,063\u001b[0m │\n└─────────────────────────────────┴────────────────────────┴───────────────┘\n",
            "text/html": "<pre style=\"white-space:pre;overflow-x:auto;line-height:normal;font-family:Menlo,'DejaVu Sans Mono',consolas,'Courier New',monospace\">┏━━━━━━━━━━━━━━━━━━━━━━━━━━━━━━━━━┳━━━━━━━━━━━━━━━━━━━━━━━━┳━━━━━━━━━━━━━━━┓\n┃<span style=\"font-weight: bold\"> Layer (type)                    </span>┃<span style=\"font-weight: bold\"> Output Shape           </span>┃<span style=\"font-weight: bold\">       Param # </span>┃\n┡━━━━━━━━━━━━━━━━━━━━━━━━━━━━━━━━━╇━━━━━━━━━━━━━━━━━━━━━━━━╇━━━━━━━━━━━━━━━┩\n│ LSTM (<span style=\"color: #0087ff; text-decoration-color: #0087ff\">LSTM</span>)                     │ (<span style=\"color: #00d7ff; text-decoration-color: #00d7ff\">None</span>, <span style=\"color: #00af00; text-decoration-color: #00af00\">128</span>)            │        <span style=\"color: #00af00; text-decoration-color: #00af00\">90,112</span> │\n├─────────────────────────────────┼────────────────────────┼───────────────┤\n│ Salida (<span style=\"color: #0087ff; text-decoration-color: #0087ff\">Dense</span>)                  │ (<span style=\"color: #00d7ff; text-decoration-color: #00d7ff\">None</span>, <span style=\"color: #00af00; text-decoration-color: #00af00\">47</span>)             │         <span style=\"color: #00af00; text-decoration-color: #00af00\">6,063</span> │\n└─────────────────────────────────┴────────────────────────┴───────────────┘\n</pre>\n"
          },
          "metadata": {}
        },
        {
          "output_type": "display_data",
          "data": {
            "text/plain": "\u001b[1m Total params: \u001b[0m\u001b[38;5;34m96,175\u001b[0m (375.68 KB)\n",
            "text/html": "<pre style=\"white-space:pre;overflow-x:auto;line-height:normal;font-family:Menlo,'DejaVu Sans Mono',consolas,'Courier New',monospace\"><span style=\"font-weight: bold\"> Total params: </span><span style=\"color: #00af00; text-decoration-color: #00af00\">96,175</span> (375.68 KB)\n</pre>\n"
          },
          "metadata": {}
        },
        {
          "output_type": "display_data",
          "data": {
            "text/plain": "\u001b[1m Trainable params: \u001b[0m\u001b[38;5;34m96,175\u001b[0m (375.68 KB)\n",
            "text/html": "<pre style=\"white-space:pre;overflow-x:auto;line-height:normal;font-family:Menlo,'DejaVu Sans Mono',consolas,'Courier New',monospace\"><span style=\"font-weight: bold\"> Trainable params: </span><span style=\"color: #00af00; text-decoration-color: #00af00\">96,175</span> (375.68 KB)\n</pre>\n"
          },
          "metadata": {}
        },
        {
          "output_type": "display_data",
          "data": {
            "text/plain": "\u001b[1m Non-trainable params: \u001b[0m\u001b[38;5;34m0\u001b[0m (0.00 B)\n",
            "text/html": "<pre style=\"white-space:pre;overflow-x:auto;line-height:normal;font-family:Menlo,'DejaVu Sans Mono',consolas,'Courier New',monospace\"><span style=\"font-weight: bold\"> Non-trainable params: </span><span style=\"color: #00af00; text-decoration-color: #00af00\">0</span> (0.00 B)\n</pre>\n"
          },
          "metadata": {}
        }
      ]
    },
    {
      "cell_type": "markdown",
      "metadata": {
        "cell_id": "05a34416426749df976a9f739d1024b8",
        "deepnote_cell_type": "markdown",
        "id": "fKXEO6o8bVHf"
      },
      "source": [
        "### Hiperparámetros"
      ]
    },
    {
      "cell_type": "markdown",
      "metadata": {
        "cell_id": "9ade699f518442919f8f8ed44cd19f0c",
        "deepnote_cell_type": "markdown",
        "id": "kvvakqiZbVHk"
      },
      "source": [
        "En el modelo \"modelo_LSTM_onehot\", los hiperparámetros seleccionados inciden directamente en su rendimiento. En particular:\n",
        "\n",
        "- Unidades LSTM: 128 → permiten capturar dependencias temporales complejas sin sobrecargar el modelo.\n",
        "\n",
        "- Función de pérdida: categorical_crossentropy → adecuada para clasificación multiclase sobre caracteres codificados en one-hot.\n",
        "\n",
        "- Optimizador: Adam → acelera la convergencia y mejora la estabilidad del entrenamiento.\n",
        "\n",
        "- Batch size: 128 → tamaño moderado que facilita un buen balance entre eficiencia computacional y estabilidad en el cálculo del gradiente, acelerando el entrenamiento sin sacrificar precisión ni exigir excesivos recursos de memoria.\n",
        "\n",
        "- Épocas: hasta 100 → permiten suficiente tiempo para la convergencia, con posibilidad de detenerse antes mediante EarlyStopping para evitar sobreajuste."
      ]
    },
    {
      "cell_type": "markdown",
      "metadata": {
        "id": "QodXk7dOdXyx",
        "cell_id": "0d3de83dc02f40f5a4d47c50bbb85c8a",
        "deepnote_cell_type": "markdown"
      },
      "source": [
        "### Entrenamiento"
      ]
    },
    {
      "cell_type": "markdown",
      "metadata": {
        "cell_id": "343b063ef1cb42bf869197f9568f9d76",
        "deepnote_cell_type": "markdown",
        "id": "tHEIPHg3bVHl"
      },
      "source": [
        "A continuación, se procede al entrenamiento del modelo utilizando los datos codificados en formato one-hot. Se entrena durante un máximo de 100 épocas con un batch size de 128, incorporando el callback EarlyStopping para evitar sobreentrenamiento. Además, se registra el tiempo total de entrenamiento para evaluar el rendimiento computacional del proceso."
      ]
    },
    {
      "cell_type": "code",
      "metadata": {
        "id": "olojS7VqdZWI",
        "colab": {
          "base_uri": "https://localhost:8080/"
        },
        "outputId": "d5af344e-99c7-4f75-8a45-4fdaa63355df",
        "cell_id": "8e20b429f8584f14af1fd6f94ce81148",
        "deepnote_cell_type": "code"
      },
      "source": [
        "start_time = time.time()\n",
        "\n",
        "history_onehot = model_onehot.fit(\n",
        "    X_1hot, y_1hot,\n",
        "    epochs=100,\n",
        "    batch_size=128,\n",
        "    callbacks=[early_stopping]\n",
        ")\n",
        "\n",
        "end_time = time.time()\n",
        "elapsed_time = end_time - start_time\n",
        "print(f\"Tiempo total de entrenamiento (one-hot): {elapsed_time:.2f} segundos\")"
      ],
      "execution_count": null,
      "outputs": [
        {
          "output_type": "stream",
          "name": "stdout",
          "text": "Epoch 1/100\n\u001b[1m2266/2266\u001b[0m \u001b[32m━━━━━━━━━━━━━━━━━━━━\u001b[0m\u001b[37m\u001b[0m \u001b[1m12s\u001b[0m 4ms/step - accuracy: 0.2607 - loss: 2.6001\nEpoch 2/100\n\u001b[1m2266/2266\u001b[0m \u001b[32m━━━━━━━━━━━━━━━━━━━━\u001b[0m\u001b[37m\u001b[0m \u001b[1m10s\u001b[0m 5ms/step - accuracy: 0.3693 - loss: 2.0584\nEpoch 3/100\n\u001b[1m2266/2266\u001b[0m \u001b[32m━━━━━━━━━━━━━━━━━━━━\u001b[0m\u001b[37m\u001b[0m \u001b[1m10s\u001b[0m 4ms/step - accuracy: 0.3995 - loss: 1.9454\nEpoch 4/100\n\u001b[1m2266/2266\u001b[0m \u001b[32m━━━━━━━━━━━━━━━━━━━━\u001b[0m\u001b[37m\u001b[0m \u001b[1m10s\u001b[0m 4ms/step - accuracy: 0.4217 - loss: 1.8690\nEpoch 5/100\n\u001b[1m2266/2266\u001b[0m \u001b[32m━━━━━━━━━━━━━━━━━━━━\u001b[0m\u001b[37m\u001b[0m \u001b[1m10s\u001b[0m 4ms/step - accuracy: 0.4409 - loss: 1.8027\nEpoch 6/100\n\u001b[1m2266/2266\u001b[0m \u001b[32m━━━━━━━━━━━━━━━━━━━━\u001b[0m\u001b[37m\u001b[0m \u001b[1m10s\u001b[0m 4ms/step - accuracy: 0.4546 - loss: 1.7535\nEpoch 7/100\n\u001b[1m2266/2266\u001b[0m \u001b[32m━━━━━━━━━━━━━━━━━━━━\u001b[0m\u001b[37m\u001b[0m \u001b[1m10s\u001b[0m 4ms/step - accuracy: 0.4701 - loss: 1.7102\nEpoch 8/100\n\u001b[1m2266/2266\u001b[0m \u001b[32m━━━━━━━━━━━━━━━━━━━━\u001b[0m\u001b[37m\u001b[0m \u001b[1m10s\u001b[0m 4ms/step - accuracy: 0.4814 - loss: 1.6736\nEpoch 9/100\n\u001b[1m2266/2266\u001b[0m \u001b[32m━━━━━━━━━━━━━━━━━━━━\u001b[0m\u001b[37m\u001b[0m \u001b[1m10s\u001b[0m 4ms/step - accuracy: 0.4919 - loss: 1.6391\nEpoch 10/100\n\u001b[1m2266/2266\u001b[0m \u001b[32m━━━━━━━━━━━━━━━━━━━━\u001b[0m\u001b[37m\u001b[0m \u001b[1m10s\u001b[0m 4ms/step - accuracy: 0.4999 - loss: 1.6124\nEpoch 11/100\n\u001b[1m2266/2266\u001b[0m \u001b[32m━━━━━━━━━━━━━━━━━━━━\u001b[0m\u001b[37m\u001b[0m \u001b[1m10s\u001b[0m 4ms/step - accuracy: 0.5074 - loss: 1.5885\nEpoch 12/100\n\u001b[1m2266/2266\u001b[0m \u001b[32m━━━━━━━━━━━━━━━━━━━━\u001b[0m\u001b[37m\u001b[0m \u001b[1m10s\u001b[0m 4ms/step - accuracy: 0.5171 - loss: 1.5639\nEpoch 13/100\n\u001b[1m2266/2266\u001b[0m \u001b[32m━━━━━━━━━━━━━━━━━━━━\u001b[0m\u001b[37m\u001b[0m \u001b[1m10s\u001b[0m 4ms/step - accuracy: 0.5221 - loss: 1.5427\nEpoch 14/100\n\u001b[1m2266/2266\u001b[0m \u001b[32m━━━━━━━━━━━━━━━━━━━━\u001b[0m\u001b[37m\u001b[0m \u001b[1m10s\u001b[0m 4ms/step - accuracy: 0.5261 - loss: 1.5291\nEpoch 15/100\n\u001b[1m2266/2266\u001b[0m \u001b[32m━━━━━━━━━━━━━━━━━━━━\u001b[0m\u001b[37m\u001b[0m \u001b[1m10s\u001b[0m 4ms/step - accuracy: 0.5307 - loss: 1.5120\nEpoch 16/100\n\u001b[1m2266/2266\u001b[0m \u001b[32m━━━━━━━━━━━━━━━━━━━━\u001b[0m\u001b[37m\u001b[0m \u001b[1m10s\u001b[0m 4ms/step - accuracy: 0.5343 - loss: 1.4964\nEpoch 17/100\n\u001b[1m2266/2266\u001b[0m \u001b[32m━━━━━━━━━━━━━━━━━━━━\u001b[0m\u001b[37m\u001b[0m \u001b[1m10s\u001b[0m 4ms/step - accuracy: 0.5377 - loss: 1.4868\nEpoch 18/100\n\u001b[1m2266/2266\u001b[0m \u001b[32m━━━━━━━━━━━━━━━━━━━━\u001b[0m\u001b[37m\u001b[0m \u001b[1m10s\u001b[0m 4ms/step - accuracy: 0.5412 - loss: 1.4707\nEpoch 19/100\n\u001b[1m2266/2266\u001b[0m \u001b[32m━━━━━━━━━━━━━━━━━━━━\u001b[0m\u001b[37m\u001b[0m \u001b[1m10s\u001b[0m 4ms/step - accuracy: 0.5446 - loss: 1.4632\nEpoch 20/100\n\u001b[1m2266/2266\u001b[0m \u001b[32m━━━━━━━━━━━━━━━━━━━━\u001b[0m\u001b[37m\u001b[0m \u001b[1m10s\u001b[0m 4ms/step - accuracy: 0.5472 - loss: 1.4506\nEpoch 21/100\n\u001b[1m2266/2266\u001b[0m \u001b[32m━━━━━━━━━━━━━━━━━━━━\u001b[0m\u001b[37m\u001b[0m \u001b[1m10s\u001b[0m 4ms/step - accuracy: 0.5507 - loss: 1.4397\nEpoch 22/100\n\u001b[1m2266/2266\u001b[0m \u001b[32m━━━━━━━━━━━━━━━━━━━━\u001b[0m\u001b[37m\u001b[0m \u001b[1m10s\u001b[0m 4ms/step - accuracy: 0.5518 - loss: 1.4330\nEpoch 23/100\n\u001b[1m2266/2266\u001b[0m \u001b[32m━━━━━━━━━━━━━━━━━━━━\u001b[0m\u001b[37m\u001b[0m \u001b[1m10s\u001b[0m 4ms/step - accuracy: 0.5552 - loss: 1.4268\nEpoch 24/100\n\u001b[1m2266/2266\u001b[0m \u001b[32m━━━━━━━━━━━━━━━━━━━━\u001b[0m\u001b[37m\u001b[0m \u001b[1m10s\u001b[0m 4ms/step - accuracy: 0.5564 - loss: 1.4199\nEpoch 25/100\n\u001b[1m2266/2266\u001b[0m \u001b[32m━━━━━━━━━━━━━━━━━━━━\u001b[0m\u001b[37m\u001b[0m \u001b[1m10s\u001b[0m 4ms/step - accuracy: 0.5629 - loss: 1.4039\nEpoch 26/100\n\u001b[1m2266/2266\u001b[0m \u001b[32m━━━━━━━━━━━━━━━━━━━━\u001b[0m\u001b[37m\u001b[0m \u001b[1m10s\u001b[0m 4ms/step - accuracy: 0.5614 - loss: 1.4033\nEpoch 27/100\n\u001b[1m2266/2266\u001b[0m \u001b[32m━━━━━━━━━━━━━━━━━━━━\u001b[0m\u001b[37m\u001b[0m \u001b[1m10s\u001b[0m 4ms/step - accuracy: 0.5611 - loss: 1.3972\nEpoch 28/100\n\u001b[1m2266/2266\u001b[0m \u001b[32m━━━━━━━━━━━━━━━━━━━━\u001b[0m\u001b[37m\u001b[0m \u001b[1m10s\u001b[0m 4ms/step - accuracy: 0.5647 - loss: 1.3864\nEpoch 29/100\n\u001b[1m2266/2266\u001b[0m \u001b[32m━━━━━━━━━━━━━━━━━━━━\u001b[0m\u001b[37m\u001b[0m \u001b[1m10s\u001b[0m 4ms/step - accuracy: 0.5663 - loss: 1.3817\nEpoch 30/100\n\u001b[1m2266/2266\u001b[0m \u001b[32m━━━━━━━━━━━━━━━━━━━━\u001b[0m\u001b[37m\u001b[0m \u001b[1m10s\u001b[0m 4ms/step - accuracy: 0.5692 - loss: 1.3758\nEpoch 31/100\n\u001b[1m2266/2266\u001b[0m \u001b[32m━━━━━━━━━━━━━━━━━━━━\u001b[0m\u001b[37m\u001b[0m \u001b[1m10s\u001b[0m 4ms/step - accuracy: 0.5705 - loss: 1.3690\nEpoch 32/100\n\u001b[1m2266/2266\u001b[0m \u001b[32m━━━━━━━━━━━━━━━━━━━━\u001b[0m\u001b[37m\u001b[0m \u001b[1m10s\u001b[0m 4ms/step - accuracy: 0.5731 - loss: 1.3603\nEpoch 33/100\n\u001b[1m2266/2266\u001b[0m \u001b[32m━━━━━━━━━━━━━━━━━━━━\u001b[0m\u001b[37m\u001b[0m \u001b[1m10s\u001b[0m 4ms/step - accuracy: 0.5735 - loss: 1.3565\nEpoch 34/100\n\u001b[1m2266/2266\u001b[0m \u001b[32m━━━━━━━━━━━━━━━━━━━━\u001b[0m\u001b[37m\u001b[0m \u001b[1m10s\u001b[0m 4ms/step - accuracy: 0.5776 - loss: 1.3459\nEpoch 35/100\n\u001b[1m2266/2266\u001b[0m \u001b[32m━━━━━━━━━━━━━━━━━━━━\u001b[0m\u001b[37m\u001b[0m \u001b[1m10s\u001b[0m 4ms/step - accuracy: 0.5768 - loss: 1.3482\nEpoch 36/100\n\u001b[1m2266/2266\u001b[0m \u001b[32m━━━━━━━━━━━━━━━━━━━━\u001b[0m\u001b[37m\u001b[0m \u001b[1m10s\u001b[0m 4ms/step - accuracy: 0.5805 - loss: 1.3390\nEpoch 37/100\n\u001b[1m2266/2266\u001b[0m \u001b[32m━━━━━━━━━━━━━━━━━━━━\u001b[0m\u001b[37m\u001b[0m \u001b[1m10s\u001b[0m 4ms/step - accuracy: 0.5809 - loss: 1.3368\nEpoch 38/100\n\u001b[1m2266/2266\u001b[0m \u001b[32m━━━━━━━━━━━━━━━━━━━━\u001b[0m\u001b[37m\u001b[0m \u001b[1m10s\u001b[0m 4ms/step - accuracy: 0.5803 - loss: 1.3327\nEpoch 39/100\n\u001b[1m2266/2266\u001b[0m \u001b[32m━━━━━━━━━━━━━━━━━━━━\u001b[0m\u001b[37m\u001b[0m \u001b[1m10s\u001b[0m 4ms/step - accuracy: 0.5838 - loss: 1.3230\nEpoch 40/100\n\u001b[1m2266/2266\u001b[0m \u001b[32m━━━━━━━━━━━━━━━━━━━━\u001b[0m\u001b[37m\u001b[0m \u001b[1m10s\u001b[0m 4ms/step - accuracy: 0.5851 - loss: 1.3198\nEpoch 41/100\n\u001b[1m2266/2266\u001b[0m \u001b[32m━━━━━━━━━━━━━━━━━━━━\u001b[0m\u001b[37m\u001b[0m \u001b[1m10s\u001b[0m 4ms/step - accuracy: 0.5858 - loss: 1.3156\nEpoch 42/100\n\u001b[1m2266/2266\u001b[0m \u001b[32m━━━━━━━━━━━━━━━━━━━━\u001b[0m\u001b[37m\u001b[0m \u001b[1m10s\u001b[0m 4ms/step - accuracy: 0.5866 - loss: 1.3143\nEpoch 43/100\n\u001b[1m2266/2266\u001b[0m \u001b[32m━━━━━━━━━━━━━━━━━━━━\u001b[0m\u001b[37m\u001b[0m \u001b[1m10s\u001b[0m 4ms/step - accuracy: 0.5889 - loss: 1.3118\nEpoch 44/100\n\u001b[1m2266/2266\u001b[0m \u001b[32m━━━━━━━━━━━━━━━━━━━━\u001b[0m\u001b[37m\u001b[0m \u001b[1m10s\u001b[0m 4ms/step - accuracy: 0.5899 - loss: 1.3050\nEpoch 45/100\n\u001b[1m2266/2266\u001b[0m \u001b[32m━━━━━━━━━━━━━━━━━━━━\u001b[0m\u001b[37m\u001b[0m \u001b[1m10s\u001b[0m 4ms/step - accuracy: 0.5904 - loss: 1.3009\nEpoch 46/100\n\u001b[1m2266/2266\u001b[0m \u001b[32m━━━━━━━━━━━━━━━━━━━━\u001b[0m\u001b[37m\u001b[0m \u001b[1m10s\u001b[0m 4ms/step - accuracy: 0.5915 - loss: 1.2999\nEpoch 47/100\n\u001b[1m2266/2266\u001b[0m \u001b[32m━━━━━━━━━━━━━━━━━━━━\u001b[0m\u001b[37m\u001b[0m \u001b[1m10s\u001b[0m 4ms/step - accuracy: 0.5934 - loss: 1.2958\nEpoch 48/100\n\u001b[1m2266/2266\u001b[0m \u001b[32m━━━━━━━━━━━━━━━━━━━━\u001b[0m\u001b[37m\u001b[0m \u001b[1m10s\u001b[0m 4ms/step - accuracy: 0.5917 - loss: 1.2905\nEpoch 49/100\n\u001b[1m2266/2266\u001b[0m \u001b[32m━━━━━━━━━━━━━━━━━━━━\u001b[0m\u001b[37m\u001b[0m \u001b[1m10s\u001b[0m 4ms/step - accuracy: 0.5956 - loss: 1.2831\nEpoch 50/100\n\u001b[1m2266/2266\u001b[0m \u001b[32m━━━━━━━━━━━━━━━━━━━━\u001b[0m\u001b[37m\u001b[0m \u001b[1m10s\u001b[0m 4ms/step - accuracy: 0.5963 - loss: 1.2867\nEpoch 51/100\n\u001b[1m2266/2266\u001b[0m \u001b[32m━━━━━━━━━━━━━━━━━━━━\u001b[0m\u001b[37m\u001b[0m \u001b[1m10s\u001b[0m 4ms/step - accuracy: 0.5967 - loss: 1.2804\nEpoch 52/100\n\u001b[1m2266/2266\u001b[0m \u001b[32m━━━━━━━━━━━━━━━━━━━━\u001b[0m\u001b[37m\u001b[0m \u001b[1m10s\u001b[0m 4ms/step - accuracy: 0.5966 - loss: 1.2796\nEpoch 53/100\n\u001b[1m2266/2266\u001b[0m \u001b[32m━━━━━━━━━━━━━━━━━━━━\u001b[0m\u001b[37m\u001b[0m \u001b[1m10s\u001b[0m 4ms/step - accuracy: 0.6003 - loss: 1.2672\nEpoch 54/100\n\u001b[1m2266/2266\u001b[0m \u001b[32m━━━━━━━━━━━━━━━━━━━━\u001b[0m\u001b[37m\u001b[0m \u001b[1m10s\u001b[0m 4ms/step - accuracy: 0.5996 - loss: 1.2713\nEpoch 55/100\n\u001b[1m2266/2266\u001b[0m \u001b[32m━━━━━━━━━━━━━━━━━━━━\u001b[0m\u001b[37m\u001b[0m \u001b[1m10s\u001b[0m 4ms/step - accuracy: 0.5999 - loss: 1.2676\nEpoch 56/100\n\u001b[1m2266/2266\u001b[0m \u001b[32m━━━━━━━━━━━━━━━━━━━━\u001b[0m\u001b[37m\u001b[0m \u001b[1m10s\u001b[0m 4ms/step - accuracy: 0.6041 - loss: 1.2605\nEpoch 57/100\n\u001b[1m2266/2266\u001b[0m \u001b[32m━━━━━━━━━━━━━━━━━━━━\u001b[0m\u001b[37m\u001b[0m \u001b[1m10s\u001b[0m 4ms/step - accuracy: 0.6036 - loss: 1.2585\nEpoch 58/100\n\u001b[1m2266/2266\u001b[0m \u001b[32m━━━━━━━━━━━━━━━━━━━━\u001b[0m\u001b[37m\u001b[0m \u001b[1m10s\u001b[0m 4ms/step - accuracy: 0.6041 - loss: 1.2594\nEpoch 59/100\n\u001b[1m2266/2266\u001b[0m \u001b[32m━━━━━━━━━━━━━━━━━━━━\u001b[0m\u001b[37m\u001b[0m \u001b[1m10s\u001b[0m 4ms/step - accuracy: 0.6053 - loss: 1.2508\nEpoch 60/100\n\u001b[1m2266/2266\u001b[0m \u001b[32m━━━━━━━━━━━━━━━━━━━━\u001b[0m\u001b[37m\u001b[0m \u001b[1m10s\u001b[0m 4ms/step - accuracy: 0.6061 - loss: 1.2494\nEpoch 61/100\n\u001b[1m2266/2266\u001b[0m \u001b[32m━━━━━━━━━━━━━━━━━━━━\u001b[0m\u001b[37m\u001b[0m \u001b[1m10s\u001b[0m 4ms/step - accuracy: 0.6066 - loss: 1.2499\nEpoch 62/100\n\u001b[1m2266/2266\u001b[0m \u001b[32m━━━━━━━━━━━━━━━━━━━━\u001b[0m\u001b[37m\u001b[0m \u001b[1m10s\u001b[0m 4ms/step - accuracy: 0.6076 - loss: 1.2425\nEpoch 63/100\n\u001b[1m2266/2266\u001b[0m \u001b[32m━━━━━━━━━━━━━━━━━━━━\u001b[0m\u001b[37m\u001b[0m \u001b[1m10s\u001b[0m 4ms/step - accuracy: 0.6092 - loss: 1.2427\nEpoch 64/100\n\u001b[1m2266/2266\u001b[0m \u001b[32m━━━━━━━━━━━━━━━━━━━━\u001b[0m\u001b[37m\u001b[0m \u001b[1m10s\u001b[0m 4ms/step - accuracy: 0.6084 - loss: 1.2449\nEpoch 65/100\n\u001b[1m2266/2266\u001b[0m \u001b[32m━━━━━━━━━━━━━━━━━━━━\u001b[0m\u001b[37m\u001b[0m \u001b[1m10s\u001b[0m 4ms/step - accuracy: 0.6116 - loss: 1.2367\nEpoch 66/100\n\u001b[1m2266/2266\u001b[0m \u001b[32m━━━━━━━━━━━━━━━━━━━━\u001b[0m\u001b[37m\u001b[0m \u001b[1m10s\u001b[0m 4ms/step - accuracy: 0.6135 - loss: 1.2334\nEpoch 67/100\n\u001b[1m2266/2266\u001b[0m \u001b[32m━━━━━━━━━━━━━━━━━━━━\u001b[0m\u001b[37m\u001b[0m \u001b[1m10s\u001b[0m 4ms/step - accuracy: 0.6131 - loss: 1.2297\nEpoch 68/100\n\u001b[1m2266/2266\u001b[0m \u001b[32m━━━━━━━━━━━━━━━━━━━━\u001b[0m\u001b[37m\u001b[0m \u001b[1m10s\u001b[0m 4ms/step - accuracy: 0.6116 - loss: 1.2317\nEpoch 69/100\n\u001b[1m2266/2266\u001b[0m \u001b[32m━━━━━━━━━━━━━━━━━━━━\u001b[0m\u001b[37m\u001b[0m \u001b[1m10s\u001b[0m 4ms/step - accuracy: 0.6128 - loss: 1.2295\nEpoch 70/100\n\u001b[1m2266/2266\u001b[0m \u001b[32m━━━━━━━━━━━━━━━━━━━━\u001b[0m\u001b[37m\u001b[0m \u001b[1m10s\u001b[0m 4ms/step - accuracy: 0.6142 - loss: 1.2270\nEpoch 71/100\n\u001b[1m2266/2266\u001b[0m \u001b[32m━━━━━━━━━━━━━━━━━━━━\u001b[0m\u001b[37m\u001b[0m \u001b[1m10s\u001b[0m 4ms/step - accuracy: 0.6139 - loss: 1.2252\nEpoch 72/100\n\u001b[1m2266/2266\u001b[0m \u001b[32m━━━━━━━━━━━━━━━━━━━━\u001b[0m\u001b[37m\u001b[0m \u001b[1m10s\u001b[0m 4ms/step - accuracy: 0.6146 - loss: 1.2231\nEpoch 73/100\n\u001b[1m2266/2266\u001b[0m \u001b[32m━━━━━━━━━━━━━━━━━━━━\u001b[0m\u001b[37m\u001b[0m \u001b[1m10s\u001b[0m 4ms/step - accuracy: 0.6152 - loss: 1.2227\nEpoch 74/100\n\u001b[1m2266/2266\u001b[0m \u001b[32m━━━━━━━━━━━━━━━━━━━━\u001b[0m\u001b[37m\u001b[0m \u001b[1m10s\u001b[0m 4ms/step - accuracy: 0.6159 - loss: 1.2179\nEpoch 75/100\n\u001b[1m2266/2266\u001b[0m \u001b[32m━━━━━━━━━━━━━━━━━━━━\u001b[0m\u001b[37m\u001b[0m \u001b[1m10s\u001b[0m 4ms/step - accuracy: 0.6160 - loss: 1.2159\nEpoch 76/100\n\u001b[1m2266/2266\u001b[0m \u001b[32m━━━━━━━━━━━━━━━━━━━━\u001b[0m\u001b[37m\u001b[0m \u001b[1m10s\u001b[0m 4ms/step - accuracy: 0.6164 - loss: 1.2159\nEpoch 77/100\n\u001b[1m2266/2266\u001b[0m \u001b[32m━━━━━━━━━━━━━━━━━━━━\u001b[0m\u001b[37m\u001b[0m \u001b[1m10s\u001b[0m 4ms/step - accuracy: 0.6167 - loss: 1.2178\nEpoch 78/100\n\u001b[1m2266/2266\u001b[0m \u001b[32m━━━━━━━━━━━━━━━━━━━━\u001b[0m\u001b[37m\u001b[0m \u001b[1m10s\u001b[0m 4ms/step - accuracy: 0.6180 - loss: 1.2147\nEpoch 79/100\n\u001b[1m2266/2266\u001b[0m \u001b[32m━━━━━━━━━━━━━━━━━━━━\u001b[0m\u001b[37m\u001b[0m \u001b[1m10s\u001b[0m 4ms/step - accuracy: 0.6183 - loss: 1.2125\nEpoch 80/100\n\u001b[1m2266/2266\u001b[0m \u001b[32m━━━━━━━━━━━━━━━━━━━━\u001b[0m\u001b[37m\u001b[0m \u001b[1m10s\u001b[0m 4ms/step - accuracy: 0.6183 - loss: 1.2126\nEpoch 81/100\n\u001b[1m2266/2266\u001b[0m \u001b[32m━━━━━━━━━━━━━━━━━━━━\u001b[0m\u001b[37m\u001b[0m \u001b[1m10s\u001b[0m 4ms/step - accuracy: 0.6190 - loss: 1.2061\nEpoch 82/100\n\u001b[1m2266/2266\u001b[0m \u001b[32m━━━━━━━━━━━━━━━━━━━━\u001b[0m\u001b[37m\u001b[0m \u001b[1m10s\u001b[0m 4ms/step - accuracy: 0.6217 - loss: 1.2001\nEpoch 83/100\n\u001b[1m2266/2266\u001b[0m \u001b[32m━━━━━━━━━━━━━━━━━━━━\u001b[0m\u001b[37m\u001b[0m \u001b[1m10s\u001b[0m 4ms/step - accuracy: 0.6188 - loss: 1.2080\nEpoch 84/100\n\u001b[1m2266/2266\u001b[0m \u001b[32m━━━━━━━━━━━━━━━━━━━━\u001b[0m\u001b[37m\u001b[0m \u001b[1m10s\u001b[0m 4ms/step - accuracy: 0.6220 - loss: 1.1979\nEpoch 85/100\n\u001b[1m2266/2266\u001b[0m \u001b[32m━━━━━━━━━━━━━━━━━━━━\u001b[0m\u001b[37m\u001b[0m \u001b[1m10s\u001b[0m 4ms/step - accuracy: 0.6188 - loss: 1.2067\nEpoch 86/100\n\u001b[1m2266/2266\u001b[0m \u001b[32m━━━━━━━━━━━━━━━━━━━━\u001b[0m\u001b[37m\u001b[0m \u001b[1m10s\u001b[0m 4ms/step - accuracy: 0.6205 - loss: 1.2023\nEpoch 87/100\n\u001b[1m2266/2266\u001b[0m \u001b[32m━━━━━━━━━━━━━━━━━━━━\u001b[0m\u001b[37m\u001b[0m \u001b[1m10s\u001b[0m 4ms/step - accuracy: 0.6211 - loss: 1.2041\nEpoch 88/100\n\u001b[1m2266/2266\u001b[0m \u001b[32m━━━━━━━━━━━━━━━━━━━━\u001b[0m\u001b[37m\u001b[0m \u001b[1m10s\u001b[0m 4ms/step - accuracy: 0.6221 - loss: 1.2008\nEpoch 89/100\n\u001b[1m2266/2266\u001b[0m \u001b[32m━━━━━━━━━━━━━━━━━━━━\u001b[0m\u001b[37m\u001b[0m \u001b[1m10s\u001b[0m 4ms/step - accuracy: 0.6214 - loss: 1.1939\nEpoch 90/100\n\u001b[1m2266/2266\u001b[0m \u001b[32m━━━━━━━━━━━━━━━━━━━━\u001b[0m\u001b[37m\u001b[0m \u001b[1m10s\u001b[0m 4ms/step - accuracy: 0.6228 - loss: 1.2010\nEpoch 91/100\n\u001b[1m2266/2266\u001b[0m \u001b[32m━━━━━━━━━━━━━━━━━━━━\u001b[0m\u001b[37m\u001b[0m \u001b[1m10s\u001b[0m 4ms/step - accuracy: 0.6224 - loss: 1.1955\nEpoch 92/100\n\u001b[1m2266/2266\u001b[0m \u001b[32m━━━━━━━━━━━━━━━━━━━━\u001b[0m\u001b[37m\u001b[0m \u001b[1m10s\u001b[0m 4ms/step - accuracy: 0.6238 - loss: 1.1939\nEpoch 93/100\n\u001b[1m2266/2266\u001b[0m \u001b[32m━━━━━━━━━━━━━━━━━━━━\u001b[0m\u001b[37m\u001b[0m \u001b[1m10s\u001b[0m 4ms/step - accuracy: 0.6246 - loss: 1.1881\nEpoch 94/100\n\u001b[1m2266/2266\u001b[0m \u001b[32m━━━━━━━━━━━━━━━━━━━━\u001b[0m\u001b[37m\u001b[0m \u001b[1m10s\u001b[0m 4ms/step - accuracy: 0.6239 - loss: 1.1938\nEpoch 95/100\n\u001b[1m2266/2266\u001b[0m \u001b[32m━━━━━━━━━━━━━━━━━━━━\u001b[0m\u001b[37m\u001b[0m \u001b[1m10s\u001b[0m 4ms/step - accuracy: 0.6240 - loss: 1.1894\nEpoch 96/100\n\u001b[1m2266/2266\u001b[0m \u001b[32m━━━━━━━━━━━━━━━━━━━━\u001b[0m\u001b[37m\u001b[0m \u001b[1m10s\u001b[0m 4ms/step - accuracy: 0.6246 - loss: 1.1902\nEpoch 97/100\n\u001b[1m2266/2266\u001b[0m \u001b[32m━━━━━━━━━━━━━━━━━━━━\u001b[0m\u001b[37m\u001b[0m \u001b[1m10s\u001b[0m 4ms/step - accuracy: 0.6253 - loss: 1.1875\nEpoch 98/100\n\u001b[1m2266/2266\u001b[0m \u001b[32m━━━━━━━━━━━━━━━━━━━━\u001b[0m\u001b[37m\u001b[0m \u001b[1m10s\u001b[0m 4ms/step - accuracy: 0.6236 - loss: 1.1909\nEpoch 99/100\n\u001b[1m2266/2266\u001b[0m \u001b[32m━━━━━━━━━━━━━━━━━━━━\u001b[0m\u001b[37m\u001b[0m \u001b[1m10s\u001b[0m 4ms/step - accuracy: 0.6246 - loss: 1.1872\nEpoch 100/100\n\u001b[1m2266/2266\u001b[0m \u001b[32m━━━━━━━━━━━━━━━━━━━━\u001b[0m\u001b[37m\u001b[0m \u001b[1m10s\u001b[0m 4ms/step - accuracy: 0.6257 - loss: 1.1906\nTiempo total de entrenamiento (one-hot): 1003.38 segundos\n"
        }
      ]
    },
    {
      "cell_type": "markdown",
      "metadata": {
        "cell_id": "64a7b564232a44fa833edfb41316c102",
        "deepnote_cell_type": "markdown",
        "id": "hq5bxfkBbVHl"
      },
      "source": [
        "El modelo se entrenó correctamente durante 100 épocas. Aunque se utilizó el callback EarlyStopping para detener el entrenamiento en caso de no observar mejoras, en esta ocasión el criterio de detención temprana no se activó, por lo que el proceso completó el máximo de 100 épocas definidas previamente."
      ]
    },
    {
      "cell_type": "markdown",
      "metadata": {
        "id": "XBWoiUog6VO-",
        "cell_id": "f07b34cd870e47adb40402f301f19ad2",
        "deepnote_cell_type": "markdown"
      },
      "source": [
        "### Gráficos"
      ]
    },
    {
      "cell_type": "markdown",
      "metadata": {
        "cell_id": "252bb67b478844188ac8607d310ac349",
        "deepnote_cell_type": "markdown",
        "id": "Hx0m6CKqbVHl"
      },
      "source": [
        "A continuación, se presenta el gráfico de la pérdida a lo largo de las épocas del modelo."
      ]
    },
    {
      "cell_type": "code",
      "metadata": {
        "id": "FZfDmhLn6Xe4",
        "colab": {
          "height": 497,
          "base_uri": "https://localhost:8080/"
        },
        "outputId": "94a36376-62de-4497-d3b6-2a3f4f041b67",
        "cell_id": "1fe7ff3099ff41d1a72e1357d7e074ba",
        "deepnote_cell_type": "code"
      },
      "source": [
        "# Datos\n",
        "loss = history_onehot.history['loss']\n",
        "epochs = range(len(loss))\n",
        "\n",
        "# Crear figura\n",
        "fig, ax = plt.subplots(figsize=(12, 5))\n",
        "\n",
        "# Curva de pérdida\n",
        "ax.plot(epochs, loss, label=\"Loss\", color='blue')\n",
        "\n",
        "# Marcar cada 10 épocas y el último punto\n",
        "for i in range(0, len(loss), 10):\n",
        "    ax.scatter(i, loss[i], color='blue')\n",
        "    ax.annotate(f\"{loss[i]:.4f}\",\n",
        "                xy=(i, loss[i]),\n",
        "                xytext=(i, loss[i] + 0.05),\n",
        "                ha='center',\n",
        "                fontsize=10,\n",
        "                color='blue')\n",
        "\n",
        "# Marcar el punto final (por si no es múltiplo de 10)\n",
        "last_epoch = len(loss) - 1\n",
        "if last_epoch % 10 != 0:\n",
        "    ax.scatter(last_epoch, loss[-1], color='blue')\n",
        "    ax.annotate(f\"{loss[-1]:.4f}\",\n",
        "                xy=(last_epoch, loss[-1]),\n",
        "                xytext=(last_epoch, loss[-1] + 0.05),\n",
        "                ha='center',\n",
        "                fontsize=10,\n",
        "                color='blue')\n",
        "\n",
        "# Estilo del gráfico\n",
        "ax.set_title('Pérdida', fontsize=16, fontweight=\"bold\")\n",
        "ax.set_xlabel('Época', fontsize=14)\n",
        "ax.set_ylabel('Loss', fontsize=14)\n",
        "ax.legend()\n",
        "\n",
        "plt.show()"
      ],
      "execution_count": null,
      "outputs": [
        {
          "output_type": "display_data",
          "data": {
            "text/plain": "<Figure size 1200x500 with 1 Axes>",
            "image/png": "[encoded data removed]"
          },
          "metadata": {}
        }
      ]
    },
    {
      "cell_type": "markdown",
      "metadata": {
        "cell_id": "7103d0a0bc8f42f5bfb6210856f1153c",
        "deepnote_cell_type": "markdown",
        "id": "EwIC8-IObVHm"
      },
      "source": [
        "El gráfico muestra una caída pronunciada en la pérdida durante las primeras 20 épocas, indicando un aprendizaje rápido en las etapas iniciales. A partir de ahí, la disminución se vuelve más lenta y progresiva, lo que sugiere que el modelo continúa mejorando, pero de forma más estable, hasta completar las 100 épocas."
      ]
    },
    {
      "cell_type": "markdown",
      "metadata": {
        "id": "32kDZ-UjdaU8",
        "cell_id": "3f929a36aaf5420c85b6a390944e80d2",
        "deepnote_cell_type": "markdown"
      },
      "source": [
        "### Generación del modelo"
      ]
    },
    {
      "cell_type": "markdown",
      "metadata": {
        "cell_id": "ba5c0dd6dcd546a2bd12a95c0578b0bc",
        "deepnote_cell_type": "markdown",
        "id": "WJO_qZ4ybVHm"
      },
      "source": [
        "Guardado del modelo para su uso posterior."
      ]
    },
    {
      "cell_type": "code",
      "metadata": {
        "id": "QB06jk1sPG3r",
        "cell_id": "03e5303473aa46cea2a0d74db603070c",
        "deepnote_cell_type": "code"
      },
      "source": [
        "model_onehot.save(\"model_onehot.keras\")"
      ],
      "execution_count": null,
      "outputs": []
    },
    {
      "cell_type": "markdown",
      "metadata": {
        "cell_id": "aec3e0afe47e49b4873645ebae3f3da7",
        "deepnote_cell_type": "markdown",
        "id": "nHBer4GMbVHn"
      },
      "source": [
        "Una vez finalizado el entrenamiento, se procede a generar texto a partir del modelo entrenado. Para observar cómo varía la creatividad y diversidad en las predicciones, se utiliza la técnica de muestreo con diferentes temperaturas. En este caso, se evalúan tres valores: 0.2, 0.5 y 0.8, partiendo desde el mismo texto semilla. A menor temperatura, las predicciones tienden a ser más conservadoras y repetitivas, mientras que temperaturas más altas generan resultados más variados y menos predecibles."
      ]
    },
    {
      "cell_type": "code",
      "metadata": {
        "id": "QEQBJgnIddhz",
        "colab": {
          "base_uri": "https://localhost:8080/"
        },
        "outputId": "0f43eb86-7b1f-4851-df35-febcfed85090",
        "cell_id": "54cd62de4f134c7f9068849bc413e86d",
        "deepnote_cell_type": "code"
      },
      "source": [
        "temperaturas = [0.2, 0.5, 0.8]\n",
        "seed_text = \"o le cautivaron y rindieron el\"\n",
        "longitud_generada = 300\n",
        "\n",
        "# Generar texto con el modelo entrenado\n",
        "for temp in temperaturas:\n",
        "    print(f\"\\n--- Generación con temperatura: {temp} ---\")\n",
        "    texto_generado_one = generate_text(seed_text, model_onehot, length=longitud_generada, temperature=temp)\n",
        "    print(\"Texto generado:\\n\", texto_generado_one)"
      ],
      "execution_count": null,
      "outputs": [
        {
          "output_type": "stream",
          "name": "stdout",
          "text": "\n--- Generación con temperatura: 0.2 ---\nTexto generado:\n o le cautivaron y rindieron el labrador que era con el mesmo de la persona de mi confirmó a la cabeza de la caballería andar el cura de la verdad que es el cura de sus manos que se le de la mano a la cabeza que en todos los que se enamorades el de la alanza de la mano en la mano, con el mundo nuevo que el que con el mando no se \n\n--- Generación con temperatura: 0.5 ---\nTexto generado:\n o le cautivaron y rindieron el ladría a sentias a don quijote y a su amigo de las palabras de la cabeza de la deshora en su padre de la mano que era don quijote, que estaba hallarle el propuradera y estaba en el mundad''. y a tu esemples que los señores, que no lo que todos les sancho: que la hermosa me había mayor caballero, y \n\n--- Generación con temperatura: 0.8 ---\nTexto generado:\n o le cautivaron y rindieron el anto, y procurió, que fuemen abrinear en confesa un andantido posible la imagino y las ordenado.\n\n-no hay parecer mucha vez se puedo se esperaba de parecer de tanto andantigor el era igusa riada a su lecho. y ya le dijo:\n\n-quío, es alcable hemos tiempa había poner y deseaventua que era por la pusie\n"
        }
      ]
    },
    {
      "cell_type": "markdown",
      "metadata": {
        "cell_id": "a443cb2668a14b35a5876c190ae57330",
        "deepnote_cell_type": "markdown",
        "id": "vzi2tie2bVHn"
      },
      "source": [
        "Se observa que el modelo es capaz de generar texto, y que al aumentar la temperatura, especialmente a 0.8, produce textos más variados y con un uso más frecuente de caracteres como comas, guiones y saltos de línea. Sin embargo, este incremento en la temperatura también provoca que la coherencia del texto disminuya notablemente, generando frases más desordenadas y difíciles de comprender. En temperaturas más bajas, como 0.2, el texto es más estructurado y con mejor sintaxis, aunque menos diverso y con repeticiones. A temperatura intermedia, 0.5, se alcanza un equilibrio entre variedad y coherencia, aunque las ideas aún pueden resultar inconexas. Esto muestra cómo la temperatura influye en el balance entre creatividad y coherencia en la generación de texto del modelo."
      ]
    },
    {
      "cell_type": "markdown",
      "metadata": {
        "id": "Dm-i-xslnYH9",
        "cell_id": "0d737880aed0409d864f3a11c55c997f",
        "deepnote_cell_type": "markdown"
      },
      "source": [
        "## LSTM con Embedding"
      ]
    },
    {
      "cell_type": "markdown",
      "metadata": {
        "id": "6vCBfpEz1SK7",
        "cell_id": "ca7b84f117a8475689e30dd6362ca0e4",
        "deepnote_cell_type": "markdown"
      },
      "source": [
        "### Arquitectura"
      ]
    },
    {
      "cell_type": "markdown",
      "metadata": {
        "cell_id": "3698fd6eccc44463abfeba195fc53bc2",
        "deepnote_cell_type": "markdown",
        "id": "AkK0GbBobVHn"
      },
      "source": [
        "El modelo \"modelo_LSTM_embedding\" es una red secuencial compuesta por tres capas principales:\n",
        "\n",
        "**Capa Embedding**: Transforma los índices enteros de los caracteres en vectores densos de dimensión 64. Esta capa permite que el modelo aprenda representaciones distribuidas de los caracteres, capturando similitudes y relaciones semánticas entre ellos durante el entrenamiento.\n",
        "\n",
        "**Capa LSTM**: Con 128 unidades, esta capa procesa las secuencias de vectores generadas por el embedding, modelando dependencias contextuales y temporales entre los caracteres para predecir el siguiente en la secuencia.\n",
        "\n",
        "**Capa Densa (Salida)**: Proyecta la salida de la LSTM a una distribución de probabilidad sobre todos los caracteres posibles mediante activación softmax.\n",
        "\n",
        "El modelo se compila usando el optimizador Adam y la función de pérdida sparse_categorical_crossentropy."
      ]
    },
    {
      "cell_type": "code",
      "metadata": {
        "id": "foGpQcPQntS_",
        "colab": {
          "height": 293,
          "base_uri": "https://localhost:8080/"
        },
        "outputId": "25e183e3-cd51-43bf-f47e-58f13ddc38de",
        "cell_id": "7383e3b628594f66acab5445c0f093b2",
        "deepnote_cell_type": "code"
      },
      "source": [
        "model_emb = Sequential(name=\"modelo_LSTM_embedding\")\n",
        "\n",
        "# Capa de embedding\n",
        "model_emb.add(Embedding(input_dim=num_chars, output_dim=64,\n",
        "                        input_shape=(SEQ_LENGTH, ), name=\"Embedding\"))\n",
        "\n",
        "# Capa LSTM\n",
        "model_emb.add(LSTM(128, name=\"LSTM\"))\n",
        "\n",
        "# Capa de salida\n",
        "model_emb.add(Dense(num_chars, activation='softmax', name=\"Salida\"))\n",
        "\n",
        "# Compilar modelo\n",
        "model_emb.compile(loss='sparse_categorical_crossentropy', optimizer='adam', metrics=['accuracy'])\n",
        "\n",
        "# Mostrar resumen\n",
        "model_emb.summary()"
      ],
      "execution_count": null,
      "outputs": [
        {
          "output_type": "stream",
          "name": "stderr",
          "text": "/usr/local/lib/python3.11/dist-packages/keras/src/layers/core/embedding.py:93: UserWarning: Do not pass an `input_shape`/`input_dim` argument to a layer. When using Sequential models, prefer using an `Input(shape)` object as the first layer in the model instead.\n  super().__init__(**kwargs)\n"
        },
        {
          "output_type": "display_data",
          "data": {
            "text/plain": "\u001b[1mModel: \"modelo_LSTM_embedding\"\u001b[0m\n",
            "text/html": "<pre style=\"white-space:pre;overflow-x:auto;line-height:normal;font-family:Menlo,'DejaVu Sans Mono',consolas,'Courier New',monospace\"><span style=\"font-weight: bold\">Model: \"modelo_LSTM_embedding\"</span>\n</pre>\n"
          },
          "metadata": {}
        },
        {
          "output_type": "display_data",
          "data": {
            "text/plain": "┏━━━━━━━━━━━━━━━━━━━━━━━━━━━━━━━━━┳━━━━━━━━━━━━━━━━━━━━━━━━┳━━━━━━━━━━━━━━━┓\n┃\u001b[1m \u001b[0m\u001b[1mLayer (type)                   \u001b[0m\u001b[1m \u001b[0m┃\u001b[1m \u001b[0m\u001b[1mOutput Shape          \u001b[0m\u001b[1m \u001b[0m┃\u001b[1m \u001b[0m\u001b[1m      Param #\u001b[0m\u001b[1m \u001b[0m┃\n┡━━━━━━━━━━━━━━━━━━━━━━━━━━━━━━━━━╇━━━━━━━━━━━━━━━━━━━━━━━━╇━━━━━━━━━━━━━━━┩\n│ Embedding (\u001b[38;5;33mEmbedding\u001b[0m)           │ (\u001b[38;5;45mNone\u001b[0m, \u001b[38;5;34m30\u001b[0m, \u001b[38;5;34m64\u001b[0m)         │         \u001b[38;5;34m3,008\u001b[0m │\n├─────────────────────────────────┼────────────────────────┼───────────────┤\n│ LSTM (\u001b[38;5;33mLSTM\u001b[0m)                     │ (\u001b[38;5;45mNone\u001b[0m, \u001b[38;5;34m128\u001b[0m)            │        \u001b[38;5;34m98,816\u001b[0m │\n├─────────────────────────────────┼────────────────────────┼───────────────┤\n│ Salida (\u001b[38;5;33mDense\u001b[0m)                  │ (\u001b[38;5;45mNone\u001b[0m, \u001b[38;5;34m47\u001b[0m)             │         \u001b[38;5;34m6,063\u001b[0m │\n└─────────────────────────────────┴────────────────────────┴───────────────┘\n",
            "text/html": "<pre style=\"white-space:pre;overflow-x:auto;line-height:normal;font-family:Menlo,'DejaVu Sans Mono',consolas,'Courier New',monospace\">┏━━━━━━━━━━━━━━━━━━━━━━━━━━━━━━━━━┳━━━━━━━━━━━━━━━━━━━━━━━━┳━━━━━━━━━━━━━━━┓\n┃<span style=\"font-weight: bold\"> Layer (type)                    </span>┃<span style=\"font-weight: bold\"> Output Shape           </span>┃<span style=\"font-weight: bold\">       Param # </span>┃\n┡━━━━━━━━━━━━━━━━━━━━━━━━━━━━━━━━━╇━━━━━━━━━━━━━━━━━━━━━━━━╇━━━━━━━━━━━━━━━┩\n│ Embedding (<span style=\"color: #0087ff; text-decoration-color: #0087ff\">Embedding</span>)           │ (<span style=\"color: #00d7ff; text-decoration-color: #00d7ff\">None</span>, <span style=\"color: #00af00; text-decoration-color: #00af00\">30</span>, <span style=\"color: #00af00; text-decoration-color: #00af00\">64</span>)         │         <span style=\"color: #00af00; text-decoration-color: #00af00\">3,008</span> │\n├─────────────────────────────────┼────────────────────────┼───────────────┤\n│ LSTM (<span style=\"color: #0087ff; text-decoration-color: #0087ff\">LSTM</span>)                     │ (<span style=\"color: #00d7ff; text-decoration-color: #00d7ff\">None</span>, <span style=\"color: #00af00; text-decoration-color: #00af00\">128</span>)            │        <span style=\"color: #00af00; text-decoration-color: #00af00\">98,816</span> │\n├─────────────────────────────────┼────────────────────────┼───────────────┤\n│ Salida (<span style=\"color: #0087ff; text-decoration-color: #0087ff\">Dense</span>)                  │ (<span style=\"color: #00d7ff; text-decoration-color: #00d7ff\">None</span>, <span style=\"color: #00af00; text-decoration-color: #00af00\">47</span>)             │         <span style=\"color: #00af00; text-decoration-color: #00af00\">6,063</span> │\n└─────────────────────────────────┴────────────────────────┴───────────────┘\n</pre>\n"
          },
          "metadata": {}
        },
        {
          "output_type": "display_data",
          "data": {
            "text/plain": "\u001b[1m Total params: \u001b[0m\u001b[38;5;34m107,887\u001b[0m (421.43 KB)\n",
            "text/html": "<pre style=\"white-space:pre;overflow-x:auto;line-height:normal;font-family:Menlo,'DejaVu Sans Mono',consolas,'Courier New',monospace\"><span style=\"font-weight: bold\"> Total params: </span><span style=\"color: #00af00; text-decoration-color: #00af00\">107,887</span> (421.43 KB)\n</pre>\n"
          },
          "metadata": {}
        },
        {
          "output_type": "display_data",
          "data": {
            "text/plain": "\u001b[1m Trainable params: \u001b[0m\u001b[38;5;34m107,887\u001b[0m (421.43 KB)\n",
            "text/html": "<pre style=\"white-space:pre;overflow-x:auto;line-height:normal;font-family:Menlo,'DejaVu Sans Mono',consolas,'Courier New',monospace\"><span style=\"font-weight: bold\"> Trainable params: </span><span style=\"color: #00af00; text-decoration-color: #00af00\">107,887</span> (421.43 KB)\n</pre>\n"
          },
          "metadata": {}
        },
        {
          "output_type": "display_data",
          "data": {
            "text/plain": "\u001b[1m Non-trainable params: \u001b[0m\u001b[38;5;34m0\u001b[0m (0.00 B)\n",
            "text/html": "<pre style=\"white-space:pre;overflow-x:auto;line-height:normal;font-family:Menlo,'DejaVu Sans Mono',consolas,'Courier New',monospace\"><span style=\"font-weight: bold\"> Non-trainable params: </span><span style=\"color: #00af00; text-decoration-color: #00af00\">0</span> (0.00 B)\n</pre>\n"
          },
          "metadata": {}
        }
      ]
    },
    {
      "cell_type": "markdown",
      "metadata": {
        "cell_id": "71621e85eadd4f67838b0867db849ce4",
        "deepnote_cell_type": "markdown",
        "id": "YVcgPghxbVHo"
      },
      "source": [
        "### Hiperparámetros"
      ]
    },
    {
      "cell_type": "markdown",
      "metadata": {
        "cell_id": "a1ff611419864cf9ba50d23c07b2bf04",
        "deepnote_cell_type": "markdown",
        "id": "3mkq_hcVbVHo"
      },
      "source": [
        "En el modelo \"modelo_LSTM_embedding\", los hiperparámetros seleccionados afectan directamente su desempeño y eficiencia:\n",
        "\n",
        "- Capa Embedding (output_dim=64) → transforma los índices de caracteres en vectores densos de dimensión 64, facilitando que el modelo capture relaciones semánticas y contextuales de manera más eficiente que con codificación one-hot.\n",
        "\n",
        "- Unidades LSTM: 128 → permiten modelar dependencias temporales complejas en las secuencias de caracteres, manteniendo un equilibrio entre capacidad y eficiencia computacional.\n",
        "\n",
        "- Función de pérdida: sparse_categorical_crossentropy → apropiada para clasificación multiclase cuando las etiquetas están codificadas como enteros, optimizando el cálculo en problemas de texto.\n",
        "\n",
        "- Optimizador: Adam → mejora la velocidad y estabilidad del entrenamiento al ajustar dinámicamente las tasas de aprendizaje.\n",
        "\n",
        "- Batch size: 128 → tamaño que equilibra un entrenamiento eficiente y estable, reduciendo el uso de memoria sin comprometer la calidad del aprendizaje.\n",
        "\n",
        "- Épocas: hasta 100 → brindan oportunidad suficiente para la convergencia, mientras que el uso de EarlyStopping permite evitar el sobreentrenamiento deteniendo el proceso cuando no hay mejoras significativas."
      ]
    },
    {
      "cell_type": "markdown",
      "metadata": {
        "id": "CHkev98L1WSM",
        "cell_id": "e542b259793b4b90bd43ba8d8c83fae2",
        "deepnote_cell_type": "markdown"
      },
      "source": [
        "### Entrenamiento"
      ]
    },
    {
      "cell_type": "markdown",
      "metadata": {
        "cell_id": "37203f7061d34371bb81f5d8c5dc99a9",
        "deepnote_cell_type": "markdown",
        "id": "udPqUTmabVHo"
      },
      "source": [
        "A continuación, se entrena el modelo con codificación embedding, utilizando un batch size de 128 y un máximo de 100 épocas. Se aplica el callback EarlyStopping para evitar sobreentrenamiento y se mide el tiempo total de entrenamiento como referencia de rendimiento."
      ]
    },
    {
      "cell_type": "code",
      "metadata": {
        "id": "b8O5HT0L0mQZ",
        "colab": {
          "base_uri": "https://localhost:8080/"
        },
        "outputId": "b81febb0-7ac3-4138-ff54-33a96612eed0",
        "cell_id": "5ada2dad9f39417f88236feafbed5f3f",
        "deepnote_cell_type": "code"
      },
      "source": [
        "start_time = time.time()\n",
        "\n",
        "history_emb = model_emb.fit(X ,y , epochs=100, batch_size=128, callbacks=[early_stopping])\n",
        "\n",
        "end_time = time.time()\n",
        "\n",
        "elapsed_time = end_time - start_time\n",
        "print(f\"Tiempo total de entrenamiento: {elapsed_time:.2f} segundos\")"
      ],
      "execution_count": null,
      "outputs": [
        {
          "output_type": "stream",
          "name": "stdout",
          "text": "Epoch 1/100\n\u001b[1m15625/15625\u001b[0m \u001b[32m━━━━━━━━━━━━━━━━━━━━\u001b[0m\u001b[37m\u001b[0m \u001b[1m70s\u001b[0m 4ms/step - accuracy: 0.4039 - loss: 1.9645\nEpoch 2/100\n\u001b[1m15625/15625\u001b[0m \u001b[32m━━━━━━━━━━━━━━━━━━━━\u001b[0m\u001b[37m\u001b[0m \u001b[1m68s\u001b[0m 4ms/step - accuracy: 0.5298 - loss: 1.5129\nEpoch 3/100\n\u001b[1m15625/15625\u001b[0m \u001b[32m━━━━━━━━━━━━━━━━━━━━\u001b[0m\u001b[37m\u001b[0m \u001b[1m68s\u001b[0m 4ms/step - accuracy: 0.5501 - loss: 1.4340\nEpoch 4/100\n\u001b[1m15625/15625\u001b[0m \u001b[32m━━━━━━━━━━━━━━━━━━━━\u001b[0m\u001b[37m\u001b[0m \u001b[1m68s\u001b[0m 4ms/step - accuracy: 0.5603 - loss: 1.3974\nEpoch 5/100\n\u001b[1m15625/15625\u001b[0m \u001b[32m━━━━━━━━━━━━━━━━━━━━\u001b[0m\u001b[37m\u001b[0m \u001b[1m69s\u001b[0m 4ms/step - accuracy: 0.5674 - loss: 1.3723\nEpoch 6/100\n\u001b[1m15625/15625\u001b[0m \u001b[32m━━━━━━━━━━━━━━━━━━━━\u001b[0m\u001b[37m\u001b[0m \u001b[1m68s\u001b[0m 4ms/step - accuracy: 0.5728 - loss: 1.3538\nEpoch 7/100\n\u001b[1m15625/15625\u001b[0m \u001b[32m━━━━━━━━━━━━━━━━━━━━\u001b[0m\u001b[37m\u001b[0m \u001b[1m68s\u001b[0m 4ms/step - accuracy: 0.5756 - loss: 1.3437\nEpoch 8/100\n\u001b[1m15625/15625\u001b[0m \u001b[32m━━━━━━━━━━━━━━━━━━━━\u001b[0m\u001b[37m\u001b[0m \u001b[1m69s\u001b[0m 4ms/step - accuracy: 0.5788 - loss: 1.3339\nEpoch 9/100\n\u001b[1m15625/15625\u001b[0m \u001b[32m━━━━━━━━━━━━━━━━━━━━\u001b[0m\u001b[37m\u001b[0m \u001b[1m69s\u001b[0m 4ms/step - accuracy: 0.5817 - loss: 1.3234\nEpoch 10/100\n\u001b[1m15625/15625\u001b[0m \u001b[32m━━━━━━━━━━━━━━━━━━━━\u001b[0m\u001b[37m\u001b[0m \u001b[1m69s\u001b[0m 4ms/step - accuracy: 0.5831 - loss: 1.3164\nEpoch 11/100\n\u001b[1m15625/15625\u001b[0m \u001b[32m━━━━━━━━━━━━━━━━━━━━\u001b[0m\u001b[37m\u001b[0m \u001b[1m69s\u001b[0m 4ms/step - accuracy: 0.5851 - loss: 1.3112\nEpoch 12/100\n\u001b[1m15625/15625\u001b[0m \u001b[32m━━━━━━━━━━━━━━━━━━━━\u001b[0m\u001b[37m\u001b[0m \u001b[1m69s\u001b[0m 4ms/step - accuracy: 0.5861 - loss: 1.3062\nEpoch 13/100\n\u001b[1m15625/15625\u001b[0m \u001b[32m━━━━━━━━━━━━━━━━━━━━\u001b[0m\u001b[37m\u001b[0m \u001b[1m69s\u001b[0m 4ms/step - accuracy: 0.5870 - loss: 1.3044\nEpoch 14/100\n\u001b[1m15625/15625\u001b[0m \u001b[32m━━━━━━━━━━━━━━━━━━━━\u001b[0m\u001b[37m\u001b[0m \u001b[1m69s\u001b[0m 4ms/step - accuracy: 0.5882 - loss: 1.3003\nEpoch 15/100\n\u001b[1m15625/15625\u001b[0m \u001b[32m━━━━━━━━━━━━━━━━━━━━\u001b[0m\u001b[37m\u001b[0m \u001b[1m69s\u001b[0m 4ms/step - accuracy: 0.5889 - loss: 1.2970\nEpoch 16/100\n\u001b[1m15625/15625\u001b[0m \u001b[32m━━━━━━━━━━━━━━━━━━━━\u001b[0m\u001b[37m\u001b[0m \u001b[1m68s\u001b[0m 4ms/step - accuracy: 0.5894 - loss: 1.2935\nEpoch 17/100\n\u001b[1m15625/15625\u001b[0m \u001b[32m━━━━━━━━━━━━━━━━━━━━\u001b[0m\u001b[37m\u001b[0m \u001b[1m68s\u001b[0m 4ms/step - accuracy: 0.5913 - loss: 1.2903\nEpoch 18/100\n\u001b[1m15625/15625\u001b[0m \u001b[32m━━━━━━━━━━━━━━━━━━━━\u001b[0m\u001b[37m\u001b[0m \u001b[1m69s\u001b[0m 4ms/step - accuracy: 0.5919 - loss: 1.2867\nEpoch 19/100\n\u001b[1m15625/15625\u001b[0m \u001b[32m━━━━━━━━━━━━━━━━━━━━\u001b[0m\u001b[37m\u001b[0m \u001b[1m69s\u001b[0m 4ms/step - accuracy: 0.5917 - loss: 1.2870\nEpoch 20/100\n\u001b[1m15625/15625\u001b[0m \u001b[32m━━━━━━━━━━━━━━━━━━━━\u001b[0m\u001b[37m\u001b[0m \u001b[1m69s\u001b[0m 4ms/step - accuracy: 0.5921 - loss: 1.2849\nEpoch 21/100\n\u001b[1m15625/15625\u001b[0m \u001b[32m━━━━━━━━━━━━━━━━━━━━\u001b[0m\u001b[37m\u001b[0m \u001b[1m69s\u001b[0m 4ms/step - accuracy: 0.5939 - loss: 1.2803\nEpoch 22/100\n\u001b[1m15625/15625\u001b[0m \u001b[32m━━━━━━━━━━━━━━━━━━━━\u001b[0m\u001b[37m\u001b[0m \u001b[1m70s\u001b[0m 4ms/step - accuracy: 0.5933 - loss: 1.2804\nEpoch 23/100\n\u001b[1m15625/15625\u001b[0m \u001b[32m━━━━━━━━━━━━━━━━━━━━\u001b[0m\u001b[37m\u001b[0m \u001b[1m69s\u001b[0m 4ms/step - accuracy: 0.5942 - loss: 1.2787\nEpoch 24/100\n\u001b[1m15625/15625\u001b[0m \u001b[32m━━━━━━━━━━━━━━━━━━━━\u001b[0m\u001b[37m\u001b[0m \u001b[1m69s\u001b[0m 4ms/step - accuracy: 0.5943 - loss: 1.2780\nEpoch 25/100\n\u001b[1m15625/15625\u001b[0m \u001b[32m━━━━━━━━━━━━━━━━━━━━\u001b[0m\u001b[37m\u001b[0m \u001b[1m69s\u001b[0m 4ms/step - accuracy: 0.5950 - loss: 1.2750\nEpoch 26/100\n\u001b[1m15625/15625\u001b[0m \u001b[32m━━━━━━━━━━━━━━━━━━━━\u001b[0m\u001b[37m\u001b[0m \u001b[1m69s\u001b[0m 4ms/step - accuracy: 0.5949 - loss: 1.2752\nEpoch 27/100\n\u001b[1m15625/15625\u001b[0m \u001b[32m━━━━━━━━━━━━━━━━━━━━\u001b[0m\u001b[37m\u001b[0m \u001b[1m69s\u001b[0m 4ms/step - accuracy: 0.5958 - loss: 1.2723\nEpoch 28/100\n\u001b[1m15625/15625\u001b[0m \u001b[32m━━━━━━━━━━━━━━━━━━━━\u001b[0m\u001b[37m\u001b[0m \u001b[1m69s\u001b[0m 4ms/step - accuracy: 0.5958 - loss: 1.2731\nEpoch 29/100\n\u001b[1m15625/15625\u001b[0m \u001b[32m━━━━━━━━━━━━━━━━━━━━\u001b[0m\u001b[37m\u001b[0m \u001b[1m69s\u001b[0m 4ms/step - accuracy: 0.5962 - loss: 1.2718\nEpoch 30/100\n\u001b[1m15625/15625\u001b[0m \u001b[32m━━━━━━━━━━━━━━━━━━━━\u001b[0m\u001b[37m\u001b[0m \u001b[1m69s\u001b[0m 4ms/step - accuracy: 0.5969 - loss: 1.2685\nEpoch 31/100\n\u001b[1m15625/15625\u001b[0m \u001b[32m━━━━━━━━━━━━━━━━━━━━\u001b[0m\u001b[37m\u001b[0m \u001b[1m69s\u001b[0m 4ms/step - accuracy: 0.5965 - loss: 1.2690\nEpoch 32/100\n\u001b[1m15625/15625\u001b[0m \u001b[32m━━━━━━━━━━━━━━━━━━━━\u001b[0m\u001b[37m\u001b[0m \u001b[1m69s\u001b[0m 4ms/step - accuracy: 0.5967 - loss: 1.2688\nEpoch 33/100\n\u001b[1m15625/15625\u001b[0m \u001b[32m━━━━━━━━━━━━━━━━━━━━\u001b[0m\u001b[37m\u001b[0m \u001b[1m69s\u001b[0m 4ms/step - accuracy: 0.5968 - loss: 1.2692\nEpoch 34/100\n\u001b[1m15625/15625\u001b[0m \u001b[32m━━━━━━━━━━━━━━━━━━━━\u001b[0m\u001b[37m\u001b[0m \u001b[1m69s\u001b[0m 4ms/step - accuracy: 0.5971 - loss: 1.2683\nEpoch 35/100\n\u001b[1m15625/15625\u001b[0m \u001b[32m━━━━━━━━━━━━━━━━━━━━\u001b[0m\u001b[37m\u001b[0m \u001b[1m69s\u001b[0m 4ms/step - accuracy: 0.5983 - loss: 1.2654\nEpoch 36/100\n\u001b[1m15625/15625\u001b[0m \u001b[32m━━━━━━━━━━━━━━━━━━━━\u001b[0m\u001b[37m\u001b[0m \u001b[1m69s\u001b[0m 4ms/step - accuracy: 0.5980 - loss: 1.2652\nEpoch 37/100\n\u001b[1m15625/15625\u001b[0m \u001b[32m━━━━━━━━━━━━━━━━━━━━\u001b[0m\u001b[37m\u001b[0m \u001b[1m69s\u001b[0m 4ms/step - accuracy: 0.5979 - loss: 1.2647\nEpoch 38/100\n\u001b[1m15625/15625\u001b[0m \u001b[32m━━━━━━━━━━━━━━━━━━━━\u001b[0m\u001b[37m\u001b[0m \u001b[1m69s\u001b[0m 4ms/step - accuracy: 0.5981 - loss: 1.2646\nEpoch 39/100\n\u001b[1m15625/15625\u001b[0m \u001b[32m━━━━━━━━━━━━━━━━━━━━\u001b[0m\u001b[37m\u001b[0m \u001b[1m69s\u001b[0m 4ms/step - accuracy: 0.5979 - loss: 1.2643\nEpoch 40/100\n\u001b[1m15625/15625\u001b[0m \u001b[32m━━━━━━━━━━━━━━━━━━━━\u001b[0m\u001b[37m\u001b[0m \u001b[1m69s\u001b[0m 4ms/step - accuracy: 0.5987 - loss: 1.2618\nEpoch 41/100\n\u001b[1m15625/15625\u001b[0m \u001b[32m━━━━━━━━━━━━━━━━━━━━\u001b[0m\u001b[37m\u001b[0m \u001b[1m69s\u001b[0m 4ms/step - accuracy: 0.5985 - loss: 1.2607\nEpoch 42/100\n\u001b[1m15625/15625\u001b[0m \u001b[32m━━━━━━━━━━━━━━━━━━━━\u001b[0m\u001b[37m\u001b[0m \u001b[1m69s\u001b[0m 4ms/step - accuracy: 0.5984 - loss: 1.2610\nEpoch 43/100\n\u001b[1m15625/15625\u001b[0m \u001b[32m━━━━━━━━━━━━━━━━━━━━\u001b[0m\u001b[37m\u001b[0m \u001b[1m69s\u001b[0m 4ms/step - accuracy: 0.5995 - loss: 1.2609\nEpoch 44/100\n\u001b[1m15625/15625\u001b[0m \u001b[32m━━━━━━━━━━━━━━━━━━━━\u001b[0m\u001b[37m\u001b[0m \u001b[1m69s\u001b[0m 4ms/step - accuracy: 0.5992 - loss: 1.2597\nEpoch 45/100\n\u001b[1m15625/15625\u001b[0m \u001b[32m━━━━━━━━━━━━━━━━━━━━\u001b[0m\u001b[37m\u001b[0m \u001b[1m69s\u001b[0m 4ms/step - accuracy: 0.5995 - loss: 1.2598\nEpoch 46/100\n\u001b[1m15625/15625\u001b[0m \u001b[32m━━━━━━━━━━━━━━━━━━━━\u001b[0m\u001b[37m\u001b[0m \u001b[1m69s\u001b[0m 4ms/step - accuracy: 0.5995 - loss: 1.2602\nEpoch 47/100\n\u001b[1m15625/15625\u001b[0m \u001b[32m━━━━━━━━━━━━━━━━━━━━\u001b[0m\u001b[37m\u001b[0m \u001b[1m69s\u001b[0m 4ms/step - accuracy: 0.5993 - loss: 1.2596\nEpoch 48/100\n\u001b[1m15625/15625\u001b[0m \u001b[32m━━━━━━━━━━━━━━━━━━━━\u001b[0m\u001b[37m\u001b[0m \u001b[1m69s\u001b[0m 4ms/step - accuracy: 0.5994 - loss: 1.2603\nEpoch 49/100\n\u001b[1m15625/15625\u001b[0m \u001b[32m━━━━━━━━━━━━━━━━━━━━\u001b[0m\u001b[37m\u001b[0m \u001b[1m69s\u001b[0m 4ms/step - accuracy: 0.5994 - loss: 1.2597\nEpoch 50/100\n\u001b[1m15625/15625\u001b[0m \u001b[32m━━━━━━━━━━━━━━━━━━━━\u001b[0m\u001b[37m\u001b[0m \u001b[1m69s\u001b[0m 4ms/step - accuracy: 0.5994 - loss: 1.2597\nEpoch 51/100\n\u001b[1m15625/15625\u001b[0m \u001b[32m━━━━━━━━━━━━━━━━━━━━\u001b[0m\u001b[37m\u001b[0m \u001b[1m69s\u001b[0m 4ms/step - accuracy: 0.5997 - loss: 1.2586\nEpoch 52/100\n\u001b[1m15625/15625\u001b[0m \u001b[32m━━━━━━━━━━━━━━━━━━━━\u001b[0m\u001b[37m\u001b[0m \u001b[1m69s\u001b[0m 4ms/step - accuracy: 0.6003 - loss: 1.2579\nEpoch 53/100\n\u001b[1m15625/15625\u001b[0m \u001b[32m━━━━━━━━━━━━━━━━━━━━\u001b[0m\u001b[37m\u001b[0m \u001b[1m69s\u001b[0m 4ms/step - accuracy: 0.5990 - loss: 1.2601\nEpoch 54/100\n\u001b[1m15625/15625\u001b[0m \u001b[32m━━━━━━━━━━━━━━━━━━━━\u001b[0m\u001b[37m\u001b[0m \u001b[1m69s\u001b[0m 4ms/step - accuracy: 0.6003 - loss: 1.2574\nEpoch 55/100\n\u001b[1m15625/15625\u001b[0m \u001b[32m━━━━━━━━━━━━━━━━━━━━\u001b[0m\u001b[37m\u001b[0m \u001b[1m69s\u001b[0m 4ms/step - accuracy: 0.6004 - loss: 1.2567\nEpoch 56/100\n\u001b[1m15625/15625\u001b[0m \u001b[32m━━━━━━━━━━━━━━━━━━━━\u001b[0m\u001b[37m\u001b[0m \u001b[1m69s\u001b[0m 4ms/step - accuracy: 0.5999 - loss: 1.2580\nEpoch 57/100\n\u001b[1m15625/15625\u001b[0m \u001b[32m━━━━━━━━━━━━━━━━━━━━\u001b[0m\u001b[37m\u001b[0m \u001b[1m69s\u001b[0m 4ms/step - accuracy: 0.6006 - loss: 1.2556\nEpoch 58/100\n\u001b[1m15625/15625\u001b[0m \u001b[32m━━━━━━━━━━━━━━━━━━━━\u001b[0m\u001b[37m\u001b[0m \u001b[1m69s\u001b[0m 4ms/step - accuracy: 0.6008 - loss: 1.2564\nEpoch 59/100\n\u001b[1m15625/15625\u001b[0m \u001b[32m━━━━━━━━━━━━━━━━━━━━\u001b[0m\u001b[37m\u001b[0m \u001b[1m69s\u001b[0m 4ms/step - accuracy: 0.6002 - loss: 1.2569\nTiempo total de entrenamiento: 4063.57 segundos\n"
        }
      ]
    },
    {
      "cell_type": "markdown",
      "metadata": {
        "cell_id": "8a1823c6d70c43dbb419d9d1fceb5d5c",
        "deepnote_cell_type": "markdown",
        "id": "7LiCHpxvbVHo"
      },
      "source": [
        "El modelo se entrenó durante 59 épocas. Aunque se definieron 100 épocas, el entrenamiento se detuvo antes gracias al uso de EarlyStopping, que identificó que no había mejoras significativas en la pérdida. El tiempo total de entrenamiento fue de aproximadamente 4063.57 segundos."
      ]
    },
    {
      "cell_type": "markdown",
      "metadata": {
        "id": "cMf_VxXcb1iJ",
        "cell_id": "db797e7651cd4264a10be8297499a61d",
        "deepnote_cell_type": "markdown"
      },
      "source": [
        "### Gráficos\n"
      ]
    },
    {
      "cell_type": "code",
      "metadata": {
        "id": "nDoMJ4EG567A",
        "colab": {
          "height": 502,
          "base_uri": "https://localhost:8080/"
        },
        "outputId": "89ce3455-87c6-4349-cb15-192c169f11b8",
        "cell_id": "990d13830ad64fc09522a4ee21676ec3",
        "deepnote_cell_type": "code"
      },
      "source": [
        "# Datos\n",
        "loss = history_emb.history['loss']\n",
        "epochs = range(len(loss))\n",
        "\n",
        "# Crear figura\n",
        "fig, ax = plt.subplots(figsize=(12, 5))\n",
        "\n",
        "# Curva de pérdida\n",
        "ax.plot(epochs, loss, label=\"Loss\", color='blue')\n",
        "\n",
        "# Marcar cada 10 épocas y el último punto\n",
        "for i in range(0, len(loss), 10):\n",
        "    ax.scatter(i, loss[i], color='blue')\n",
        "    ax.annotate(f\"{loss[i]:.4f}\",\n",
        "                xy=(i, loss[i]),\n",
        "                xytext=(i, loss[i] + 0.05),\n",
        "                ha='center',\n",
        "                fontsize=10,\n",
        "                color='blue')\n",
        "\n",
        "# Marcar el punto final (por si no es múltiplo de 10)\n",
        "last_epoch = len(loss) - 1\n",
        "if last_epoch % 10 != 0:\n",
        "    ax.scatter(last_epoch, loss[-1], color='blue')\n",
        "    ax.annotate(f\"{loss[-1]:.4f}\",\n",
        "                xy=(last_epoch, loss[-1]),\n",
        "                xytext=(last_epoch, loss[-1] + 0.05),\n",
        "                ha='center',\n",
        "                fontsize=10,\n",
        "                color='blue')\n",
        "\n",
        "# Estilo del gráfico\n",
        "ax.set_title('Pérdida', fontsize=16, fontweight=\"bold\")\n",
        "ax.set_xlabel('Época', fontsize=14)\n",
        "ax.set_ylabel('Loss', fontsize=14)\n",
        "ax.legend()\n",
        "\n",
        "plt.show()"
      ],
      "execution_count": null,
      "outputs": [
        {
          "output_type": "display_data",
          "data": {
            "text/plain": "<Figure size 1200x500 with 1 Axes>",
            "image/png": "[encoded data removed]"
          },
          "metadata": {}
        }
      ]
    },
    {
      "cell_type": "markdown",
      "metadata": {
        "cell_id": "8ff355995367410e91a6ac54837e31fa",
        "deepnote_cell_type": "markdown",
        "id": "e95Y3MJXbVHp"
      },
      "source": [
        "El gráfico muestra una curva pronunciada de disminución de la pérdida y aumento de la precisión durante las primeras 10 épocas. Luego, la mejora se vuelve más gradual y progresiva hasta la época 59, momento en que EarlyStopping detuvo el entrenamiento por falta de mejoras significativas."
      ]
    },
    {
      "cell_type": "markdown",
      "metadata": {
        "id": "gBIDsaEJ_QAQ",
        "cell_id": "df0025ecfab5405388b9cac8766432aa",
        "deepnote_cell_type": "markdown"
      },
      "source": [
        "### Generación del modelo"
      ]
    },
    {
      "cell_type": "markdown",
      "metadata": {
        "cell_id": "f1d70d7f26fb41b186a5b120dd637002",
        "deepnote_cell_type": "markdown",
        "id": "htj9C0ObbVHp"
      },
      "source": [
        "Guardado del modelo para su uso posterior."
      ]
    },
    {
      "cell_type": "code",
      "metadata": {
        "id": "eI5jzJdBPXMr",
        "cell_id": "57f13bd63cbd45f3af1479985586328f",
        "deepnote_cell_type": "code"
      },
      "source": [
        "model_emb.save(\"model_emb.keras\")"
      ],
      "execution_count": null,
      "outputs": []
    },
    {
      "cell_type": "markdown",
      "metadata": {
        "cell_id": "8ae95841f205403fa752df58108ba3ca",
        "deepnote_cell_type": "markdown",
        "id": "FMTgs3-9bVHp"
      },
      "source": [
        "Una vez finalizado el entrenamiento, se procede a generar texto a partir del modelo entrenado. Para observar cómo varía la creatividad y diversidad en las predicciones, se utiliza la técnica de muestreo con diferentes temperaturas. En este caso, se evalúan tres valores: 0.2, 0.5 y 0.8, partiendo desde el mismo texto semilla. A menor temperatura, las predicciones tienden a ser más conservadoras y repetitivas, mientras que temperaturas más altas generan resultados más variados y menos predecibles. Esta mejora en la generación respecto al modelo one-hot puede deberse a que aquí se utilizó casi todo el corpus para el entrenamiento, mientras que en el modelo one-hot se usó una muestra reducida por limitaciones de RAM."
      ]
    },
    {
      "cell_type": "code",
      "metadata": {
        "id": "usGbI4_z2Us8",
        "colab": {
          "base_uri": "https://localhost:8080/"
        },
        "outputId": "67bf45c5-9d99-4fad-e9f6-999e7db681fd",
        "cell_id": "644d2e16285340289d9ecb0270a2dc78",
        "deepnote_cell_type": "code"
      },
      "source": [
        "seed_text = \"o le cautivaron y rindieron el\"\n",
        "\n",
        "# Generar texto con el modelo entrenado\n",
        "for temp in temperaturas:\n",
        "    print(f\"\\n--- Generación con temperatura: {temp} ---\")\n",
        "    texto_generado_emb = generate_text_emb(seed_text, model_emb, length=longitud_generada, temperature=temp)\n",
        "    print(\"Texto generado:\\n\", texto_generado_emb)"
      ],
      "execution_count": null,
      "outputs": [
        {
          "output_type": "stream",
          "name": "stdout",
          "text": "\n--- Generación con temperatura: 0.2 ---\nTexto generado:\n o le cautivaron y rindieron el camino que en la mano a la cabeza, y a la casa de la cabeza de la cabeza de la mano a los dos soldados y de la mano a la mano a la cabeza y la cabeza a la cabeza de la cabeza de la mano a la cabeza de la cabeza y de la mano a la cabeza, y a la cabeza, y en el mundo que allí a la cabeza, y la vida q\n\n--- Generación con temperatura: 0.5 ---\nTexto generado:\n o le cautivaron y rindieron el camino de la mancha, y dijo:\n\n-ahora se viese la mañana de la cortesía y no lo había en cuanto dijese la calitada en la duquesa con el casa, y aun me\nhallase para descubrieron las armas y de tu casa no diga que por no ser en esto, dijo:\n\n-¿qué viniera, sin visto en el caballero que no se deben deci\n\n--- Generación con temperatura: 0.8 ---\nTexto generado:\n o le cautivaron y rindieron el bachiller nuncanto,\nporque no sé que no lo hará mi concertada; porque, sobre todo desvalido atarde dira donde está vive con la arrimado, y que si le sola\nes como la historia por el cuerpo, dijo:\n\n-¡ay entonces? -respondió sansón-, y mira acabada, hasta la persona me mala que están el\ndiablo, arrepi\n"
        }
      ]
    },
    {
      "cell_type": "markdown",
      "metadata": {
        "cell_id": "32b2f22a91ca4608a1a64ffb3b97faba",
        "deepnote_cell_type": "markdown",
        "id": "q5cSIV2AbVHp"
      },
      "source": [
        "El modelo con embedding genera textos con cierta coherencia a temperatura baja (0.2), aunque repetitivos y limitados en contenido. A temperatura 0.5, el texto es más variado, mostrando fragmentos más reconocibles y coherentes, siendo este el nivel con mayor claridad. A temperatura 0.8, el texto es más libre y diverso en signos y vocabulario, pero pierde coherencia, resultando en frases más fragmentadas y aleatorias."
      ]
    },
    {
      "cell_type": "markdown",
      "metadata": {
        "cell_id": "ad7187188e684e9caf7be8a3cf4207a1",
        "deepnote_cell_type": "markdown",
        "id": "tRLtyS0gbVHq"
      },
      "source": []
    },
    {
      "cell_type": "markdown",
      "metadata": {
        "id": "A2PUd5hFnrdy",
        "cell_id": "debbd2cced844fdba81477a3fa47a683",
        "deepnote_cell_type": "markdown"
      },
      "source": [
        "## LSTM palabra por palabra"
      ]
    },
    {
      "cell_type": "markdown",
      "metadata": {
        "cell_id": "58ca23844c1146a0a024b9f9b91e3719",
        "deepnote_cell_type": "markdown",
        "id": "kFDaI9BlbVHq"
      },
      "source": [
        "El siguiente modelo está diseñado para aprender la secuencia y contexto en textos a nivel de palabra, utilizando una arquitectura basada en capas LSTM que permite capturar dependencias a largo plazo entre las palabras. La entrada al modelo corresponde a secuencias de palabras tokenizadas y padded, donde cada palabra se representa mediante un entero que luego es transformado en vectores densos mediante una capa de embedding."
      ]
    },
    {
      "cell_type": "markdown",
      "metadata": {
        "id": "rKmr3j4Jn7AW",
        "cell_id": "9b5db8403574485c83f879a5db479c34",
        "deepnote_cell_type": "markdown"
      },
      "source": [
        "### Funciones de utilidad"
      ]
    },
    {
      "cell_type": "code",
      "metadata": {
        "id": "DY3xcROnoAlS",
        "cell_id": "d1e4509b2d8e44fca1bb22af0222218e",
        "deepnote_cell_type": "code"
      },
      "source": [
        "def get_sequence_of_tokens(corpus, tokenizer):\n",
        "    tokenizer.fit_on_texts(corpus)\n",
        "    total_words = min(5000, len(tokenizer.word_index) + 1)\n",
        "\n",
        "    input_sequences = []\n",
        "    for line in corpus:\n",
        "        token_list = tokenizer.texts_to_sequences([line])[0]\n",
        "        if len(token_list) < 2:\n",
        "            continue\n",
        "        for i in range(1, len(token_list)):\n",
        "            n_gram_sequence = token_list[:i+1]\n",
        "            input_sequences.append(n_gram_sequence)\n",
        "    return input_sequences, total_words\n",
        "\n",
        "def generate_padded_sequences(input_sequences,total_words):\n",
        "    max_sequence_len = max([len(x) for x in input_sequences])\n",
        "    input_sequences = np.array(pad_sequences(input_sequences, maxlen=max_sequence_len, padding='pre'))\n",
        "\n",
        "    predictors, label = input_sequences[:,:-1],input_sequences[:,-1]\n",
        "    #label = keras.utils.to_categorical(label, num_classes=total_words)\n",
        "    return predictors, label, max_sequence_len"
      ],
      "execution_count": null,
      "outputs": []
    },
    {
      "cell_type": "markdown",
      "metadata": {
        "cell_id": "a565e78dc7164bfeb59a7c6d6ee81a5c",
        "deepnote_cell_type": "markdown",
        "id": "WmCeC-9JbVHq"
      },
      "source": [
        "1. **get_sequence_of_tokens**: tokeniza el corpus y genera secuencias de tipo n-grama crecientes, limitando el vocabulario a 5000 palabras para evitar alta dimensionalidad.\n",
        "\n",
        "2. **generate_padded_sequences**: aplica padding al inicio de las secuencias para igualar su longitud y separa las entradas (predictors) de las etiquetas (label), dejando los datos listos para entrenar el modelo LSTM."
      ]
    },
    {
      "cell_type": "markdown",
      "metadata": {
        "id": "3pOuyhnpoB-F",
        "cell_id": "e83c0041a12e4fec90f008a3f7273f36",
        "deepnote_cell_type": "markdown"
      },
      "source": [
        "### Secuencias tokenizadas"
      ]
    },
    {
      "cell_type": "markdown",
      "metadata": {
        "id": "tGHI6dZ3Smnk",
        "cell_id": "fbd4733feddf4acfb13b0edccc7507b8",
        "deepnote_cell_type": "markdown"
      },
      "source": [
        "Se procede a crear un Tokenizer limitado a un vocabulario máximo de 5000 palabras para controlar la complejidad del modelo. Luego, el texto completo se segmenta en párrafos utilizando una expresión regular que detecta saltos de línea dobles, descartando entradas vacías para asegurar datos limpios. Tambien limita la cantidad de secuencias a 100000. Para evitar que los recursos de la maquina otorgada por Colab se acaben."
      ]
    },
    {
      "cell_type": "code",
      "metadata": {
        "id": "fUo5uBELntnD",
        "colab": {
          "base_uri": "https://localhost:8080/"
        },
        "outputId": "89f19c71-e242-401e-a008-dfcff97d135b",
        "cell_id": "c6fb1cee51554fbea300fe03d44ee471",
        "deepnote_cell_type": "code"
      },
      "source": [
        "tokenizer = Tokenizer(num_words=5000)\n",
        "\n",
        "# Separa el texto por párrafos\n",
        "corpus = [p.strip() for p in re.split(r'\\n\\s*\\n+', texto) if p.strip()]\n",
        "\n",
        "inp_sequences, total_words = get_sequence_of_tokens(corpus, tokenizer)\n",
        "\n",
        "# Reduce la cantidad de secuencias\n",
        "inp_sequences = sample_rand(inp_sequences, k=min(100000, len(inp_sequences)))\n",
        "\n",
        "print(f\"Total secuencias: {len(inp_sequences)}\")\n",
        "print(f\"Vocabulario usado (total_words): {total_words}\")\n",
        "\n",
        "predictors, label, max_sequence_len = generate_padded_sequences(inp_sequences, total_words)\n",
        "\n",
        "print(f\"Total de predictores (predictors): {predictors}\")"
      ],
      "execution_count": null,
      "outputs": [
        {
          "output_type": "stream",
          "name": "stdout",
          "text": "Total secuencias: 100000\nVocabulario usado (total_words): 5000\nTotal de predictores (predictors): [[   0    0    0 ...  335    3   98]\n [   0    0    0 ...   25    3 1218]\n [   0    0    0 ...    1 1243 1790]\n ...\n [   0    0    0 ...   82   36    2]\n [   0    0    0 ...  545 1802   78]\n [   0    0    0 ...  558    2    8]]\n"
        }
      ]
    },
    {
      "cell_type": "markdown",
      "metadata": {
        "cell_id": "e8dbb793ce11497d99456e5f7f18053d",
        "deepnote_cell_type": "markdown",
        "id": "fTgosMK3bVHq"
      },
      "source": [
        "Se puede observar que se han generado un total de 100,000 secuencias y que el vocabulario efectivo tokenizado está limitado a 5,000 palabras, como se estableció para controlar la complejidad del modelo."
      ]
    },
    {
      "cell_type": "markdown",
      "metadata": {
        "id": "R50KLt70puL3",
        "cell_id": "1a580b0cf37743a8903c1f33557bfc1a",
        "deepnote_cell_type": "markdown"
      },
      "source": [
        "### Arquitectura"
      ]
    },
    {
      "cell_type": "markdown",
      "metadata": {
        "cell_id": "4f705a0da5634fe6921eeaeeb7f46e84",
        "deepnote_cell_type": "markdown",
        "id": "K_TXdd2CbVHq"
      },
      "source": [
        "El modelo \"model_token\" está definido como una red secuencial compuesta por tres capas principales:\n",
        "\n",
        "**Capa Embedding**: Esta capa inicial transforma los índices enteros de las palabras en vectores densos de dimensión 128. Permite que el modelo aprenda representaciones semánticas distribuidas para cada palabra, facilitando la captura de relaciones contextuales durante el entrenamiento. La dimensión de entrada está definida por la longitud de secuencia menos uno (max_sequence_len - 1).\n",
        "\n",
        "**Capa LSTM**: Con 128 unidades recurrentes, esta capa procesa las secuencias temporales, modelando dependencias a largo plazo entre palabras. La LSTM es especialmente adecuada para texto por su capacidad para retener información contextual relevante a través de secuencias extensas.\n",
        "\n",
        "**Capa Dropout**: Con una tasa de 0.1, ayuda a prevenir el sobreajuste durante el entrenamiento, introduciendo aleatoriedad en las conexiones de la red.\n",
        "\n",
        "**Capa Densa (Salida)**: Proyecta la salida de la LSTM a un vector de probabilidades sobre el vocabulario completo, usando la función de activación softmax, para predecir la siguiente palabra en la secuencia."
      ]
    },
    {
      "cell_type": "code",
      "metadata": {
        "id": "hEZv4Pz8pzVz",
        "colab": {
          "height": 272,
          "base_uri": "https://localhost:8080/"
        },
        "outputId": "3332221f-097a-44d4-a3be-8a5ac2a35881",
        "cell_id": "a44b37db38ca437f8630a9e4819289b7",
        "deepnote_cell_type": "code"
      },
      "source": [
        "model_token = Sequential(name=\"token\")\n",
        "\n",
        "# Capa de Embedding\n",
        "input_len = max_sequence_len - 1\n",
        "model_token.add(Embedding(total_words, 128, input_shape=(SEQ_LENGTH, ), name=\"Embedding\"))\n",
        "\n",
        "# Capa LSTM + Dropout\n",
        "model_token.add(LSTM(128, name=\"CapaLSTM\"))\n",
        "model_token.add(Dropout(0.1, name=\"Dropout\"))\n",
        "\n",
        "# Capa de salida\n",
        "model_token.add(Dense(total_words, activation='softmax', name=\"Densa\"))\n",
        "\n",
        "# Compilación\n",
        "model_token.compile(loss='sparse_categorical_crossentropy', optimizer='adam', metrics=[\"accuracy\"])\n",
        "\n",
        "# Mostrar resumen\n",
        "model_token.summary()"
      ],
      "execution_count": null,
      "outputs": [
        {
          "output_type": "display_data",
          "data": {
            "text/plain": "\u001b[1mModel: \"token\"\u001b[0m\n",
            "text/html": "<pre style=\"white-space:pre;overflow-x:auto;line-height:normal;font-family:Menlo,'DejaVu Sans Mono',consolas,'Courier New',monospace\"><span style=\"font-weight: bold\">Model: \"token\"</span>\n</pre>\n"
          },
          "metadata": {}
        },
        {
          "output_type": "display_data",
          "data": {
            "text/plain": "┏━━━━━━━━━━━━━━━━━━━━━━━━━━━━━━━━━┳━━━━━━━━━━━━━━━━━━━━━━━━┳━━━━━━━━━━━━━━━┓\n┃\u001b[1m \u001b[0m\u001b[1mLayer (type)                   \u001b[0m\u001b[1m \u001b[0m┃\u001b[1m \u001b[0m\u001b[1mOutput Shape          \u001b[0m\u001b[1m \u001b[0m┃\u001b[1m \u001b[0m\u001b[1m      Param #\u001b[0m\u001b[1m \u001b[0m┃\n┡━━━━━━━━━━━━━━━━━━━━━━━━━━━━━━━━━╇━━━━━━━━━━━━━━━━━━━━━━━━╇━━━━━━━━━━━━━━━┩\n│ Embedding (\u001b[38;5;33mEmbedding\u001b[0m)           │ (\u001b[38;5;45mNone\u001b[0m, \u001b[38;5;34m30\u001b[0m, \u001b[38;5;34m128\u001b[0m)        │       \u001b[38;5;34m640,000\u001b[0m │\n├─────────────────────────────────┼────────────────────────┼───────────────┤\n│ CapaLSTM (\u001b[38;5;33mLSTM\u001b[0m)                 │ (\u001b[38;5;45mNone\u001b[0m, \u001b[38;5;34m128\u001b[0m)            │       \u001b[38;5;34m131,584\u001b[0m │\n├─────────────────────────────────┼────────────────────────┼───────────────┤\n│ Dropout (\u001b[38;5;33mDropout\u001b[0m)               │ (\u001b[38;5;45mNone\u001b[0m, \u001b[38;5;34m128\u001b[0m)            │             \u001b[38;5;34m0\u001b[0m │\n├─────────────────────────────────┼────────────────────────┼───────────────┤\n│ Densa (\u001b[38;5;33mDense\u001b[0m)                   │ (\u001b[38;5;45mNone\u001b[0m, \u001b[38;5;34m5000\u001b[0m)           │       \u001b[38;5;34m645,000\u001b[0m │\n└─────────────────────────────────┴────────────────────────┴───────────────┘\n",
            "text/html": "<pre style=\"white-space:pre;overflow-x:auto;line-height:normal;font-family:Menlo,'DejaVu Sans Mono',consolas,'Courier New',monospace\">┏━━━━━━━━━━━━━━━━━━━━━━━━━━━━━━━━━┳━━━━━━━━━━━━━━━━━━━━━━━━┳━━━━━━━━━━━━━━━┓\n┃<span style=\"font-weight: bold\"> Layer (type)                    </span>┃<span style=\"font-weight: bold\"> Output Shape           </span>┃<span style=\"font-weight: bold\">       Param # </span>┃\n┡━━━━━━━━━━━━━━━━━━━━━━━━━━━━━━━━━╇━━━━━━━━━━━━━━━━━━━━━━━━╇━━━━━━━━━━━━━━━┩\n│ Embedding (<span style=\"color: #0087ff; text-decoration-color: #0087ff\">Embedding</span>)           │ (<span style=\"color: #00d7ff; text-decoration-color: #00d7ff\">None</span>, <span style=\"color: #00af00; text-decoration-color: #00af00\">30</span>, <span style=\"color: #00af00; text-decoration-color: #00af00\">128</span>)        │       <span style=\"color: #00af00; text-decoration-color: #00af00\">640,000</span> │\n├─────────────────────────────────┼────────────────────────┼───────────────┤\n│ CapaLSTM (<span style=\"color: #0087ff; text-decoration-color: #0087ff\">LSTM</span>)                 │ (<span style=\"color: #00d7ff; text-decoration-color: #00d7ff\">None</span>, <span style=\"color: #00af00; text-decoration-color: #00af00\">128</span>)            │       <span style=\"color: #00af00; text-decoration-color: #00af00\">131,584</span> │\n├─────────────────────────────────┼────────────────────────┼───────────────┤\n│ Dropout (<span style=\"color: #0087ff; text-decoration-color: #0087ff\">Dropout</span>)               │ (<span style=\"color: #00d7ff; text-decoration-color: #00d7ff\">None</span>, <span style=\"color: #00af00; text-decoration-color: #00af00\">128</span>)            │             <span style=\"color: #00af00; text-decoration-color: #00af00\">0</span> │\n├─────────────────────────────────┼────────────────────────┼───────────────┤\n│ Densa (<span style=\"color: #0087ff; text-decoration-color: #0087ff\">Dense</span>)                   │ (<span style=\"color: #00d7ff; text-decoration-color: #00d7ff\">None</span>, <span style=\"color: #00af00; text-decoration-color: #00af00\">5000</span>)           │       <span style=\"color: #00af00; text-decoration-color: #00af00\">645,000</span> │\n└─────────────────────────────────┴────────────────────────┴───────────────┘\n</pre>\n"
          },
          "metadata": {}
        },
        {
          "output_type": "display_data",
          "data": {
            "text/plain": "\u001b[1m Total params: \u001b[0m\u001b[38;5;34m1,416,584\u001b[0m (5.40 MB)\n",
            "text/html": "<pre style=\"white-space:pre;overflow-x:auto;line-height:normal;font-family:Menlo,'DejaVu Sans Mono',consolas,'Courier New',monospace\"><span style=\"font-weight: bold\"> Total params: </span><span style=\"color: #00af00; text-decoration-color: #00af00\">1,416,584</span> (5.40 MB)\n</pre>\n"
          },
          "metadata": {}
        },
        {
          "output_type": "display_data",
          "data": {
            "text/plain": "\u001b[1m Trainable params: \u001b[0m\u001b[38;5;34m1,416,584\u001b[0m (5.40 MB)\n",
            "text/html": "<pre style=\"white-space:pre;overflow-x:auto;line-height:normal;font-family:Menlo,'DejaVu Sans Mono',consolas,'Courier New',monospace\"><span style=\"font-weight: bold\"> Trainable params: </span><span style=\"color: #00af00; text-decoration-color: #00af00\">1,416,584</span> (5.40 MB)\n</pre>\n"
          },
          "metadata": {}
        },
        {
          "output_type": "display_data",
          "data": {
            "text/plain": "\u001b[1m Non-trainable params: \u001b[0m\u001b[38;5;34m0\u001b[0m (0.00 B)\n",
            "text/html": "<pre style=\"white-space:pre;overflow-x:auto;line-height:normal;font-family:Menlo,'DejaVu Sans Mono',consolas,'Courier New',monospace\"><span style=\"font-weight: bold\"> Non-trainable params: </span><span style=\"color: #00af00; text-decoration-color: #00af00\">0</span> (0.00 B)\n</pre>\n"
          },
          "metadata": {}
        }
      ]
    },
    {
      "cell_type": "markdown",
      "metadata": {
        "cell_id": "100a4e78a34d4ef9b7022306e0c7d561",
        "deepnote_cell_type": "markdown",
        "id": "XSMFHtXlbVHr"
      },
      "source": [
        "### Hiperparámetros"
      ]
    },
    {
      "cell_type": "markdown",
      "metadata": {
        "cell_id": "10b644d49d204678b05adfb9a9e9fa8f",
        "deepnote_cell_type": "markdown",
        "id": "v2p88Fa6bVHr"
      },
      "source": [
        "En el modelo \"token\", los hiperparámetros ajustados influyen directamente en su rendimiento y eficiencia:\n",
        "\n",
        "- Capa Embedding (output_dim=128) → convierte los índices de palabras en vectores densos de dimensión 128, permitiendo capturar relaciones semánticas más ricas y contextuales entre palabras del vocabulario.\n",
        "\n",
        "- Unidades LSTM: 128 → procesan secuencias para modelar dependencias temporales largas, balanceando capacidad de aprendizaje y complejidad computacional.\n",
        "\n",
        "- Capa Dropout (0.1) → introduce regularización para reducir el sobreajuste, mejorando la generalización del modelo durante el entrenamiento.\n",
        "\n",
        "- Función de pérdida (sparse_categorical_crossentropy) → adecuada para problemas de clasificación multiclase con etiquetas enteras, optimizando la eficiencia del cálculo.\n",
        "\n",
        "- Optimizador (Adam) → acelera la convergencia y estabiliza el proceso de entrenamiento mediante ajustes adaptativos en la tasa de aprendizaje.\n",
        "\n",
        "- Batch size: 128 → tamaño de lote que equilibra la estabilidad y eficiencia computacional, ayudando a un entrenamiento rápido sin consumir excesiva memoria.\n",
        "\n",
        "- Épocas: hasta 100 → permiten un entrenamiento suficientemente largo para converger, con EarlyStopping para detenerlo si no se observan mejoras, evitando así el sobreajuste.\n",
        "\n"
      ]
    },
    {
      "cell_type": "markdown",
      "metadata": {
        "cell_id": "2b8d33da8ad9445295ded10b93f90eda",
        "deepnote_cell_type": "markdown",
        "id": "MVqcwta1bVHr"
      },
      "source": [
        "### Entrenamiento"
      ]
    },
    {
      "cell_type": "markdown",
      "metadata": {
        "cell_id": "535fa4d387f946378ea83e072dd7b1a0",
        "deepnote_cell_type": "markdown",
        "id": "J4vE3HuwbVHr"
      },
      "source": [
        "Se decidió entrenar el modelo durante un máximo de 100 épocas, utilizando el callback early_stopping previamente definido, que detiene el entrenamiento si la métrica de pérdida (loss) no mejora durante 3 épocas consecutivas."
      ]
    },
    {
      "cell_type": "code",
      "metadata": {
        "id": "qRsjWC2dp4oY",
        "colab": {
          "base_uri": "https://localhost:8080/"
        },
        "outputId": "cffb99ba-cf53-4951-8f75-f9555e9cb639",
        "cell_id": "251b8d8027a9424f90d35191d571bc5d",
        "deepnote_cell_type": "code"
      },
      "source": [
        "start_time = time.time()\n",
        "\n",
        "history_token = model_token.fit(predictors, label, batch_size=128, epochs=100, callbacks=[early_stopping])\n",
        "\n",
        "end_time = time.time()\n",
        "\n",
        "elapsed_time_token = end_time - start_time\n",
        "print(f\"Tiempo total de entrenamiento: {elapsed_time_token:.2f} segundos\")"
      ],
      "execution_count": null,
      "outputs": [
        {
          "output_type": "stream",
          "name": "stdout",
          "text": "Epoch 1/100\n\u001b[1m782/782\u001b[0m \u001b[32m━━━━━━━━━━━━━━━━━━━━\u001b[0m\u001b[37m\u001b[0m \u001b[1m37s\u001b[0m 45ms/step - accuracy: 0.0605 - loss: 6.4454\nEpoch 2/100\n\u001b[1m782/782\u001b[0m \u001b[32m━━━━━━━━━━━━━━━━━━━━\u001b[0m\u001b[37m\u001b[0m \u001b[1m35s\u001b[0m 45ms/step - accuracy: 0.0885 - loss: 5.7209\nEpoch 3/100\n\u001b[1m782/782\u001b[0m \u001b[32m━━━━━━━━━━━━━━━━━━━━\u001b[0m\u001b[37m\u001b[0m \u001b[1m35s\u001b[0m 44ms/step - accuracy: 0.1190 - loss: 5.4942\nEpoch 4/100\n\u001b[1m782/782\u001b[0m \u001b[32m━━━━━━━━━━━━━━━━━━━━\u001b[0m\u001b[37m\u001b[0m \u001b[1m35s\u001b[0m 44ms/step - accuracy: 0.1313 - loss: 5.3194\nEpoch 5/100\n\u001b[1m782/782\u001b[0m \u001b[32m━━━━━━━━━━━━━━━━━━━━\u001b[0m\u001b[37m\u001b[0m \u001b[1m35s\u001b[0m 44ms/step - accuracy: 0.1357 - loss: 5.1709\nEpoch 6/100\n\u001b[1m782/782\u001b[0m \u001b[32m━━━━━━━━━━━━━━━━━━━━\u001b[0m\u001b[37m\u001b[0m \u001b[1m35s\u001b[0m 45ms/step - accuracy: 0.1444 - loss: 5.0414\nEpoch 7/100\n\u001b[1m782/782\u001b[0m \u001b[32m━━━━━━━━━━━━━━━━━━━━\u001b[0m\u001b[37m\u001b[0m \u001b[1m35s\u001b[0m 44ms/step - accuracy: 0.1486 - loss: 4.9582\nEpoch 8/100\n\u001b[1m782/782\u001b[0m \u001b[32m━━━━━━━━━━━━━━━━━━━━\u001b[0m\u001b[37m\u001b[0m \u001b[1m35s\u001b[0m 45ms/step - accuracy: 0.1558 - loss: 4.8557\nEpoch 9/100\n\u001b[1m782/782\u001b[0m \u001b[32m━━━━━━━━━━━━━━━━━━━━\u001b[0m\u001b[37m\u001b[0m \u001b[1m35s\u001b[0m 45ms/step - accuracy: 0.1572 - loss: 4.7576\nEpoch 10/100\n\u001b[1m782/782\u001b[0m \u001b[32m━━━━━━━━━━━━━━━━━━━━\u001b[0m\u001b[37m\u001b[0m \u001b[1m35s\u001b[0m 44ms/step - accuracy: 0.1622 - loss: 4.6736\nEpoch 11/100\n\u001b[1m782/782\u001b[0m \u001b[32m━━━━━━━━━━━━━━━━━━━━\u001b[0m\u001b[37m\u001b[0m \u001b[1m35s\u001b[0m 44ms/step - accuracy: 0.1720 - loss: 4.5802\nEpoch 12/100\n\u001b[1m782/782\u001b[0m \u001b[32m━━━━━━━━━━━━━━━━━━━━\u001b[0m\u001b[37m\u001b[0m \u001b[1m35s\u001b[0m 44ms/step - accuracy: 0.1724 - loss: 4.5075\nEpoch 13/100\n\u001b[1m782/782\u001b[0m \u001b[32m━━━━━━━━━━━━━━━━━━━━\u001b[0m\u001b[37m\u001b[0m \u001b[1m35s\u001b[0m 44ms/step - accuracy: 0.1741 - loss: 4.4437\nEpoch 14/100\n\u001b[1m782/782\u001b[0m \u001b[32m━━━━━━━━━━━━━━━━━━━━\u001b[0m\u001b[37m\u001b[0m \u001b[1m35s\u001b[0m 44ms/step - accuracy: 0.1789 - loss: 4.3598\nEpoch 15/100\n\u001b[1m782/782\u001b[0m \u001b[32m━━━━━━━━━━━━━━━━━━━━\u001b[0m\u001b[37m\u001b[0m \u001b[1m35s\u001b[0m 44ms/step - accuracy: 0.1827 - loss: 4.2880\nEpoch 16/100\n\u001b[1m782/782\u001b[0m \u001b[32m━━━━━━━━━━━━━━━━━━━━\u001b[0m\u001b[37m\u001b[0m \u001b[1m35s\u001b[0m 44ms/step - accuracy: 0.1866 - loss: 4.2193\nEpoch 17/100\n\u001b[1m782/782\u001b[0m \u001b[32m━━━━━━━━━━━━━━━━━━━━\u001b[0m\u001b[37m\u001b[0m \u001b[1m35s\u001b[0m 44ms/step - accuracy: 0.1905 - loss: 4.1581\nEpoch 18/100\n\u001b[1m782/782\u001b[0m \u001b[32m━━━━━━━━━━━━━━━━━━━━\u001b[0m\u001b[37m\u001b[0m \u001b[1m35s\u001b[0m 45ms/step - accuracy: 0.1945 - loss: 4.0863\nEpoch 19/100\n\u001b[1m782/782\u001b[0m \u001b[32m━━━━━━━━━━━━━━━━━━━━\u001b[0m\u001b[37m\u001b[0m \u001b[1m35s\u001b[0m 45ms/step - accuracy: 0.2007 - loss: 4.0264\nEpoch 20/100\n\u001b[1m782/782\u001b[0m \u001b[32m━━━━━━━━━━━━━━━━━━━━\u001b[0m\u001b[37m\u001b[0m \u001b[1m35s\u001b[0m 45ms/step - accuracy: 0.2065 - loss: 3.9727\nEpoch 21/100\n\u001b[1m782/782\u001b[0m \u001b[32m━━━━━━━━━━━━━━━━━━━━\u001b[0m\u001b[37m\u001b[0m \u001b[1m35s\u001b[0m 44ms/step - accuracy: 0.2103 - loss: 3.9189\nEpoch 22/100\n\u001b[1m782/782\u001b[0m \u001b[32m━━━━━━━━━━━━━━━━━━━━\u001b[0m\u001b[37m\u001b[0m \u001b[1m35s\u001b[0m 44ms/step - accuracy: 0.2159 - loss: 3.8563\nEpoch 23/100\n\u001b[1m782/782\u001b[0m \u001b[32m━━━━━━━━━━━━━━━━━━━━\u001b[0m\u001b[37m\u001b[0m \u001b[1m35s\u001b[0m 45ms/step - accuracy: 0.2222 - loss: 3.8010\nEpoch 24/100\n\u001b[1m782/782\u001b[0m \u001b[32m━━━━━━━━━━━━━━━━━━━━\u001b[0m\u001b[37m\u001b[0m \u001b[1m35s\u001b[0m 44ms/step - accuracy: 0.2287 - loss: 3.7521\nEpoch 25/100\n\u001b[1m782/782\u001b[0m \u001b[32m━━━━━━━━━━━━━━━━━━━━\u001b[0m\u001b[37m\u001b[0m \u001b[1m35s\u001b[0m 44ms/step - accuracy: 0.2365 - loss: 3.6993\nEpoch 26/100\n\u001b[1m782/782\u001b[0m \u001b[32m━━━━━━━━━━━━━━━━━━━━\u001b[0m\u001b[37m\u001b[0m \u001b[1m35s\u001b[0m 44ms/step - accuracy: 0.2405 - loss: 3.6562\nEpoch 27/100\n\u001b[1m782/782\u001b[0m \u001b[32m━━━━━━━━━━━━━━━━━━━━\u001b[0m\u001b[37m\u001b[0m \u001b[1m35s\u001b[0m 44ms/step - accuracy: 0.2461 - loss: 3.6023\nEpoch 28/100\n\u001b[1m782/782\u001b[0m \u001b[32m━━━━━━━━━━━━━━━━━━━━\u001b[0m\u001b[37m\u001b[0m \u001b[1m35s\u001b[0m 45ms/step - accuracy: 0.2518 - loss: 3.5797\nEpoch 29/100\n\u001b[1m782/782\u001b[0m \u001b[32m━━━━━━━━━━━━━━━━━━━━\u001b[0m\u001b[37m\u001b[0m \u001b[1m35s\u001b[0m 45ms/step - accuracy: 0.2613 - loss: 3.5239\nEpoch 30/100\n\u001b[1m782/782\u001b[0m \u001b[32m━━━━━━━━━━━━━━━━━━━━\u001b[0m\u001b[37m\u001b[0m \u001b[1m35s\u001b[0m 44ms/step - accuracy: 0.2705 - loss: 3.4701\nEpoch 31/100\n\u001b[1m782/782\u001b[0m \u001b[32m━━━━━━━━━━━━━━━━━━━━\u001b[0m\u001b[37m\u001b[0m \u001b[1m35s\u001b[0m 45ms/step - accuracy: 0.2709 - loss: 3.4327\nEpoch 32/100\n\u001b[1m782/782\u001b[0m \u001b[32m━━━━━━━━━━━━━━━━━━━━\u001b[0m\u001b[37m\u001b[0m \u001b[1m35s\u001b[0m 45ms/step - accuracy: 0.2817 - loss: 3.3839\nEpoch 33/100\n\u001b[1m782/782\u001b[0m \u001b[32m━━━━━━━━━━━━━━━━━━━━\u001b[0m\u001b[37m\u001b[0m \u001b[1m35s\u001b[0m 44ms/step - accuracy: 0.2846 - loss: 3.3475\nEpoch 34/100\n\u001b[1m782/782\u001b[0m \u001b[32m━━━━━━━━━━━━━━━━━━━━\u001b[0m\u001b[37m\u001b[0m \u001b[1m35s\u001b[0m 45ms/step - accuracy: 0.2924 - loss: 3.3037\nEpoch 35/100\n\u001b[1m782/782\u001b[0m \u001b[32m━━━━━━━━━━━━━━━━━━━━\u001b[0m\u001b[37m\u001b[0m \u001b[1m35s\u001b[0m 44ms/step - accuracy: 0.2974 - loss: 3.2639\nEpoch 36/100\n\u001b[1m782/782\u001b[0m \u001b[32m━━━━━━━━━━━━━━━━━━━━\u001b[0m\u001b[37m\u001b[0m \u001b[1m35s\u001b[0m 44ms/step - accuracy: 0.3061 - loss: 3.2217\nEpoch 37/100\n\u001b[1m782/782\u001b[0m \u001b[32m━━━━━━━━━━━━━━━━━━━━\u001b[0m\u001b[37m\u001b[0m \u001b[1m35s\u001b[0m 44ms/step - accuracy: 0.3111 - loss: 3.1834\nEpoch 38/100\n\u001b[1m782/782\u001b[0m \u001b[32m━━━━━━━━━━━━━━━━━━━━\u001b[0m\u001b[37m\u001b[0m \u001b[1m35s\u001b[0m 45ms/step - accuracy: 0.3207 - loss: 3.1480\nEpoch 39/100\n\u001b[1m782/782\u001b[0m \u001b[32m━━━━━━━━━━━━━━━━━━━━\u001b[0m\u001b[37m\u001b[0m \u001b[1m35s\u001b[0m 45ms/step - accuracy: 0.3197 - loss: 3.1214\nEpoch 40/100\n\u001b[1m782/782\u001b[0m \u001b[32m━━━━━━━━━━━━━━━━━━━━\u001b[0m\u001b[37m\u001b[0m \u001b[1m35s\u001b[0m 44ms/step - accuracy: 0.3294 - loss: 3.0849\nEpoch 41/100\n\u001b[1m782/782\u001b[0m \u001b[32m━━━━━━━━━━━━━━━━━━━━\u001b[0m\u001b[37m\u001b[0m \u001b[1m35s\u001b[0m 45ms/step - accuracy: 0.3342 - loss: 3.0483\nEpoch 42/100\n\u001b[1m782/782\u001b[0m \u001b[32m━━━━━━━━━━━━━━━━━━━━\u001b[0m\u001b[37m\u001b[0m \u001b[1m35s\u001b[0m 45ms/step - accuracy: 0.3444 - loss: 3.0123\nEpoch 43/100\n\u001b[1m782/782\u001b[0m \u001b[32m━━━━━━━━━━━━━━━━━━━━\u001b[0m\u001b[37m\u001b[0m \u001b[1m35s\u001b[0m 45ms/step - accuracy: 0.3463 - loss: 2.9774\nEpoch 44/100\n\u001b[1m782/782\u001b[0m \u001b[32m━━━━━━━━━━━━━━━━━━━━\u001b[0m\u001b[37m\u001b[0m \u001b[1m35s\u001b[0m 45ms/step - accuracy: 0.3509 - loss: 2.9418\nEpoch 45/100\n\u001b[1m782/782\u001b[0m \u001b[32m━━━━━━━━━━━━━━━━━━━━\u001b[0m\u001b[37m\u001b[0m \u001b[1m35s\u001b[0m 44ms/step - accuracy: 0.3602 - loss: 2.9218\nEpoch 46/100\n\u001b[1m782/782\u001b[0m \u001b[32m━━━━━━━━━━━━━━━━━━━━\u001b[0m\u001b[37m\u001b[0m \u001b[1m35s\u001b[0m 45ms/step - accuracy: 0.3648 - loss: 2.8850\nEpoch 47/100\n\u001b[1m782/782\u001b[0m \u001b[32m━━━━━━━━━━━━━━━━━━━━\u001b[0m\u001b[37m\u001b[0m \u001b[1m35s\u001b[0m 45ms/step - accuracy: 0.3689 - loss: 2.8563\nEpoch 48/100\n\u001b[1m782/782\u001b[0m \u001b[32m━━━━━━━━━━━━━━━━━━━━\u001b[0m\u001b[37m\u001b[0m \u001b[1m35s\u001b[0m 45ms/step - accuracy: 0.3726 - loss: 2.8311\nEpoch 49/100\n\u001b[1m782/782\u001b[0m \u001b[32m━━━━━━━━━━━━━━━━━━━━\u001b[0m\u001b[37m\u001b[0m \u001b[1m35s\u001b[0m 44ms/step - accuracy: 0.3792 - loss: 2.7964\nEpoch 50/100\n\u001b[1m782/782\u001b[0m \u001b[32m━━━━━━━━━━━━━━━━━━━━\u001b[0m\u001b[37m\u001b[0m \u001b[1m35s\u001b[0m 45ms/step - accuracy: 0.3822 - loss: 2.7808\nEpoch 51/100\n\u001b[1m782/782\u001b[0m \u001b[32m━━━━━━━━━━━━━━━━━━━━\u001b[0m\u001b[37m\u001b[0m \u001b[1m35s\u001b[0m 45ms/step - accuracy: 0.3893 - loss: 2.7396\nEpoch 52/100\n\u001b[1m782/782\u001b[0m \u001b[32m━━━━━━━━━━━━━━━━━━━━\u001b[0m\u001b[37m\u001b[0m \u001b[1m35s\u001b[0m 45ms/step - accuracy: 0.3954 - loss: 2.7254\nEpoch 53/100\n\u001b[1m782/782\u001b[0m \u001b[32m━━━━━━━━━━━━━━━━━━━━\u001b[0m\u001b[37m\u001b[0m \u001b[1m35s\u001b[0m 44ms/step - accuracy: 0.3996 - loss: 2.6917\nEpoch 54/100\n\u001b[1m782/782\u001b[0m \u001b[32m━━━━━━━━━━━━━━━━━━━━\u001b[0m\u001b[37m\u001b[0m \u001b[1m35s\u001b[0m 45ms/step - accuracy: 0.4005 - loss: 2.6791\nEpoch 55/100\n\u001b[1m782/782\u001b[0m \u001b[32m━━━━━━━━━━━━━━━━━━━━\u001b[0m\u001b[37m\u001b[0m \u001b[1m35s\u001b[0m 45ms/step - accuracy: 0.4056 - loss: 2.6547\nEpoch 56/100\n\u001b[1m782/782\u001b[0m \u001b[32m━━━━━━━━━━━━━━━━━━━━\u001b[0m\u001b[37m\u001b[0m \u001b[1m35s\u001b[0m 44ms/step - accuracy: 0.4121 - loss: 2.6258\nEpoch 57/100\n\u001b[1m782/782\u001b[0m \u001b[32m━━━━━━━━━━━━━━━━━━━━\u001b[0m\u001b[37m\u001b[0m \u001b[1m35s\u001b[0m 45ms/step - accuracy: 0.4178 - loss: 2.5953\nEpoch 58/100\n\u001b[1m782/782\u001b[0m \u001b[32m━━━━━━━━━━━━━━━━━━━━\u001b[0m\u001b[37m\u001b[0m \u001b[1m35s\u001b[0m 45ms/step - accuracy: 0.4219 - loss: 2.5867\nEpoch 59/100\n\u001b[1m782/782\u001b[0m \u001b[32m━━━━━━━━━━━━━━━━━━━━\u001b[0m\u001b[37m\u001b[0m \u001b[1m35s\u001b[0m 45ms/step - accuracy: 0.4194 - loss: 2.5756\nEpoch 60/100\n\u001b[1m782/782\u001b[0m \u001b[32m━━━━━━━━━━━━━━━━━━━━\u001b[0m\u001b[37m\u001b[0m \u001b[1m35s\u001b[0m 45ms/step - accuracy: 0.4262 - loss: 2.5373\nEpoch 61/100\n\u001b[1m782/782\u001b[0m \u001b[32m━━━━━━━━━━━━━━━━━━━━\u001b[0m\u001b[37m\u001b[0m \u001b[1m35s\u001b[0m 44ms/step - accuracy: 0.4341 - loss: 2.5119\nEpoch 62/100\n\u001b[1m782/782\u001b[0m \u001b[32m━━━━━━━━━━━━━━━━━━━━\u001b[0m\u001b[37m\u001b[0m \u001b[1m35s\u001b[0m 44ms/step - accuracy: 0.4375 - loss: 2.4826\nEpoch 63/100\n\u001b[1m782/782\u001b[0m \u001b[32m━━━━━━━━━━━━━━━━━━━━\u001b[0m\u001b[37m\u001b[0m \u001b[1m35s\u001b[0m 45ms/step - accuracy: 0.4397 - loss: 2.4693\nEpoch 64/100\n\u001b[1m782/782\u001b[0m \u001b[32m━━━━━━━━━━━━━━━━━━━━\u001b[0m\u001b[37m\u001b[0m \u001b[1m35s\u001b[0m 45ms/step - accuracy: 0.4443 - loss: 2.4511\nEpoch 65/100\n\u001b[1m782/782\u001b[0m \u001b[32m━━━━━━━━━━━━━━━━━━━━\u001b[0m\u001b[37m\u001b[0m \u001b[1m35s\u001b[0m 44ms/step - accuracy: 0.4483 - loss: 2.4333\nEpoch 66/100\n\u001b[1m782/782\u001b[0m \u001b[32m━━━━━━━━━━━━━━━━━━━━\u001b[0m\u001b[37m\u001b[0m \u001b[1m35s\u001b[0m 45ms/step - accuracy: 0.4527 - loss: 2.4158\nEpoch 67/100\n\u001b[1m782/782\u001b[0m \u001b[32m━━━━━━━━━━━━━━━━━━━━\u001b[0m\u001b[37m\u001b[0m \u001b[1m35s\u001b[0m 45ms/step - accuracy: 0.4588 - loss: 2.3923\nEpoch 68/100\n\u001b[1m782/782\u001b[0m \u001b[32m━━━━━━━━━━━━━━━━━━━━\u001b[0m\u001b[37m\u001b[0m \u001b[1m35s\u001b[0m 44ms/step - accuracy: 0.4588 - loss: 2.3746\nEpoch 69/100\n\u001b[1m782/782\u001b[0m \u001b[32m━━━━━━━━━━━━━━━━━━━━\u001b[0m\u001b[37m\u001b[0m \u001b[1m35s\u001b[0m 44ms/step - accuracy: 0.4643 - loss: 2.3498\nEpoch 70/100\n\u001b[1m782/782\u001b[0m \u001b[32m━━━━━━━━━━━━━━━━━━━━\u001b[0m\u001b[37m\u001b[0m \u001b[1m35s\u001b[0m 44ms/step - accuracy: 0.4650 - loss: 2.3368\nEpoch 71/100\n\u001b[1m782/782\u001b[0m \u001b[32m━━━━━━━━━━━━━━━━━━━━\u001b[0m\u001b[37m\u001b[0m \u001b[1m35s\u001b[0m 45ms/step - accuracy: 0.4703 - loss: 2.3211\nEpoch 72/100\n\u001b[1m782/782\u001b[0m \u001b[32m━━━━━━━━━━━━━━━━━━━━\u001b[0m\u001b[37m\u001b[0m \u001b[1m35s\u001b[0m 45ms/step - accuracy: 0.4741 - loss: 2.3046\nEpoch 73/100\n\u001b[1m782/782\u001b[0m \u001b[32m━━━━━━━━━━━━━━━━━━━━\u001b[0m\u001b[37m\u001b[0m \u001b[1m35s\u001b[0m 44ms/step - accuracy: 0.4773 - loss: 2.2805\nEpoch 74/100\n\u001b[1m782/782\u001b[0m \u001b[32m━━━━━━━━━━━━━━━━━━━━\u001b[0m\u001b[37m\u001b[0m \u001b[1m35s\u001b[0m 44ms/step - accuracy: 0.4746 - loss: 2.2782\nEpoch 75/100\n\u001b[1m782/782\u001b[0m \u001b[32m━━━━━━━━━━━━━━━━━━━━\u001b[0m\u001b[37m\u001b[0m \u001b[1m35s\u001b[0m 44ms/step - accuracy: 0.4821 - loss: 2.2520\nEpoch 76/100\n\u001b[1m782/782\u001b[0m \u001b[32m━━━━━━━━━━━━━━━━━━━━\u001b[0m\u001b[37m\u001b[0m \u001b[1m35s\u001b[0m 44ms/step - accuracy: 0.4814 - loss: 2.2498\nEpoch 77/100\n\u001b[1m782/782\u001b[0m \u001b[32m━━━━━━━━━━━━━━━━━━━━\u001b[0m\u001b[37m\u001b[0m \u001b[1m35s\u001b[0m 44ms/step - accuracy: 0.4877 - loss: 2.2206\nEpoch 78/100\n\u001b[1m782/782\u001b[0m \u001b[32m━━━━━━━━━━━━━━━━━━━━\u001b[0m\u001b[37m\u001b[0m \u001b[1m35s\u001b[0m 44ms/step - accuracy: 0.4896 - loss: 2.2118\nEpoch 79/100\n\u001b[1m782/782\u001b[0m \u001b[32m━━━━━━━━━━━━━━━━━━━━\u001b[0m\u001b[37m\u001b[0m \u001b[1m35s\u001b[0m 44ms/step - accuracy: 0.4958 - loss: 2.1824\nEpoch 80/100\n\u001b[1m782/782\u001b[0m \u001b[32m━━━━━━━━━━━━━━━━━━━━\u001b[0m\u001b[37m\u001b[0m \u001b[1m35s\u001b[0m 44ms/step - accuracy: 0.4957 - loss: 2.1796\nEpoch 81/100\n\u001b[1m782/782\u001b[0m \u001b[32m━━━━━━━━━━━━━━━━━━━━\u001b[0m\u001b[37m\u001b[0m \u001b[1m35s\u001b[0m 44ms/step - accuracy: 0.5025 - loss: 2.1502\nEpoch 82/100\n\u001b[1m782/782\u001b[0m \u001b[32m━━━━━━━━━━━━━━━━━━━━\u001b[0m\u001b[37m\u001b[0m \u001b[1m35s\u001b[0m 44ms/step - accuracy: 0.5014 - loss: 2.1516\nEpoch 83/100\n\u001b[1m782/782\u001b[0m \u001b[32m━━━━━━━━━━━━━━━━━━━━\u001b[0m\u001b[37m\u001b[0m \u001b[1m35s\u001b[0m 44ms/step - accuracy: 0.5037 - loss: 2.1348\nEpoch 84/100\n\u001b[1m782/782\u001b[0m \u001b[32m━━━━━━━━━━━━━━━━━━━━\u001b[0m\u001b[37m\u001b[0m \u001b[1m35s\u001b[0m 44ms/step - accuracy: 0.5077 - loss: 2.1224\nEpoch 85/100\n\u001b[1m782/782\u001b[0m \u001b[32m━━━━━━━━━━━━━━━━━━━━\u001b[0m\u001b[37m\u001b[0m \u001b[1m35s\u001b[0m 44ms/step - accuracy: 0.5111 - loss: 2.1067\nEpoch 86/100\n\u001b[1m782/782\u001b[0m \u001b[32m━━━━━━━━━━━━━━━━━━━━\u001b[0m\u001b[37m\u001b[0m \u001b[1m35s\u001b[0m 44ms/step - accuracy: 0.5114 - loss: 2.1097\nEpoch 87/100\n\u001b[1m782/782\u001b[0m \u001b[32m━━━━━━━━━━━━━━━━━━━━\u001b[0m\u001b[37m\u001b[0m \u001b[1m35s\u001b[0m 44ms/step - accuracy: 0.5145 - loss: 2.0920\nEpoch 88/100\n\u001b[1m782/782\u001b[0m \u001b[32m━━━━━━━━━━━━━━━━━━━━\u001b[0m\u001b[37m\u001b[0m \u001b[1m35s\u001b[0m 44ms/step - accuracy: 0.5153 - loss: 2.0722\nEpoch 89/100\n\u001b[1m782/782\u001b[0m \u001b[32m━━━━━━━━━━━━━━━━━━━━\u001b[0m\u001b[37m\u001b[0m \u001b[1m35s\u001b[0m 44ms/step - accuracy: 0.5182 - loss: 2.0621\nEpoch 90/100\n\u001b[1m782/782\u001b[0m \u001b[32m━━━━━━━━━━━━━━━━━━━━\u001b[0m\u001b[37m\u001b[0m \u001b[1m35s\u001b[0m 44ms/step - accuracy: 0.5221 - loss: 2.0542\nEpoch 91/100\n\u001b[1m782/782\u001b[0m \u001b[32m━━━━━━━━━━━━━━━━━━━━\u001b[0m\u001b[37m\u001b[0m \u001b[1m35s\u001b[0m 44ms/step - accuracy: 0.5244 - loss: 2.0294\nEpoch 92/100\n\u001b[1m782/782\u001b[0m \u001b[32m━━━━━━━━━━━━━━━━━━━━\u001b[0m\u001b[37m\u001b[0m \u001b[1m35s\u001b[0m 44ms/step - accuracy: 0.5240 - loss: 2.0402\nEpoch 93/100\n\u001b[1m782/782\u001b[0m \u001b[32m━━━━━━━━━━━━━━━━━━━━\u001b[0m\u001b[37m\u001b[0m \u001b[1m35s\u001b[0m 44ms/step - accuracy: 0.5266 - loss: 2.0265\nEpoch 94/100\n\u001b[1m782/782\u001b[0m \u001b[32m━━━━━━━━━━━━━━━━━━━━\u001b[0m\u001b[37m\u001b[0m \u001b[1m35s\u001b[0m 44ms/step - accuracy: 0.5315 - loss: 2.0027\nEpoch 95/100\n\u001b[1m782/782\u001b[0m \u001b[32m━━━━━━━━━━━━━━━━━━━━\u001b[0m\u001b[37m\u001b[0m \u001b[1m35s\u001b[0m 44ms/step - accuracy: 0.5312 - loss: 2.0019\nEpoch 96/100\n\u001b[1m782/782\u001b[0m \u001b[32m━━━━━━━━━━━━━━━━━━━━\u001b[0m\u001b[37m\u001b[0m \u001b[1m35s\u001b[0m 44ms/step - accuracy: 0.5315 - loss: 1.9897\nEpoch 97/100\n\u001b[1m782/782\u001b[0m \u001b[32m━━━━━━━━━━━━━━━━━━━━\u001b[0m\u001b[37m\u001b[0m \u001b[1m35s\u001b[0m 44ms/step - accuracy: 0.5343 - loss: 1.9779\nEpoch 98/100\n\u001b[1m782/782\u001b[0m \u001b[32m━━━━━━━━━━━━━━━━━━━━\u001b[0m\u001b[37m\u001b[0m \u001b[1m35s\u001b[0m 44ms/step - accuracy: 0.5383 - loss: 1.9700\nEpoch 99/100\n\u001b[1m782/782\u001b[0m \u001b[32m━━━━━━━━━━━━━━━━━━━━\u001b[0m\u001b[37m\u001b[0m \u001b[1m35s\u001b[0m 44ms/step - accuracy: 0.5381 - loss: 1.9627\nEpoch 100/100\n\u001b[1m782/782\u001b[0m \u001b[32m━━━━━━━━━━━━━━━━━━━━\u001b[0m\u001b[37m\u001b[0m \u001b[1m35s\u001b[0m 44ms/step - accuracy: 0.5421 - loss: 1.9448\nTiempo total de entrenamiento: 3480.14 segundos\n"
        }
      ]
    },
    {
      "cell_type": "markdown",
      "metadata": {
        "cell_id": "22454d4facfa4f04b1a4632458627b1f",
        "deepnote_cell_type": "markdown",
        "id": "VvkjsjL8bVHr"
      },
      "source": [
        "Se observa que el entrenamiento tuvo una duración aproximada de una hora y no fue interrumpido por el mecanismo de early stopping, lo que sugiere que el modelo podría haber seguido mejorando con más tiempo de entrenamiento. Sin embargo, por razones de tiempo y disponibilidad de recursos computacionales, se opta por mantener el modelo en la época 100."
      ]
    },
    {
      "cell_type": "markdown",
      "metadata": {
        "id": "CE-Ke5NTY6dA",
        "cell_id": "95c2d9d1478245b097ddefc973bbe4f2",
        "deepnote_cell_type": "markdown"
      },
      "source": [
        "### Gráficos"
      ]
    },
    {
      "cell_type": "code",
      "metadata": {
        "id": "OWEvK-0oZcFd",
        "colab": {
          "height": 497,
          "base_uri": "https://localhost:8080/"
        },
        "outputId": "7d8da805-056a-4f8b-e99a-80b0dd3bb561",
        "cell_id": "c9d4a56dba424e109cfa44f23da7178f",
        "deepnote_cell_type": "code"
      },
      "source": [
        "# Datos\n",
        "loss = history_token.history['loss']\n",
        "epochs = range(len(loss))\n",
        "\n",
        "# Crear figura\n",
        "fig, ax = plt.subplots(figsize=(12, 5))\n",
        "\n",
        "# Curva de pérdida\n",
        "ax.plot(epochs, loss, label=\"Loss\", color='blue')\n",
        "\n",
        "# Marcar cada 10 épocas y el último punto\n",
        "for i in range(0, len(loss), 10):\n",
        "    ax.scatter(i, loss[i], color='blue')\n",
        "    ax.annotate(f\"{loss[i]:.4f}\",\n",
        "                xy=(i, loss[i]),\n",
        "                xytext=(i, loss[i] + 0.05),\n",
        "                ha='center',\n",
        "                fontsize=10,\n",
        "                color='blue')\n",
        "\n",
        "# Marcar el punto final (por si no es múltiplo de 10)\n",
        "last_epoch = len(loss) - 1\n",
        "if last_epoch % 10 != 0:\n",
        "    ax.scatter(last_epoch, loss[-1], color='blue')\n",
        "    ax.annotate(f\"{loss[-1]:.4f}\",\n",
        "                xy=(last_epoch, loss[-1]),\n",
        "                xytext=(last_epoch, loss[-1] + 0.05),\n",
        "                ha='center',\n",
        "                fontsize=10,\n",
        "                color='blue')\n",
        "\n",
        "# Estilo del gráfico\n",
        "ax.set_title('Pérdida', fontsize=16, fontweight=\"bold\")\n",
        "ax.set_xlabel('Época', fontsize=14)\n",
        "ax.set_ylabel('Loss', fontsize=14)\n",
        "ax.legend()\n",
        "\n",
        "plt.show()"
      ],
      "execution_count": null,
      "outputs": [
        {
          "output_type": "display_data",
          "data": {
            "text/plain": "<Figure size 1200x500 with 1 Axes>",
            "image/png": "[encoded data removed]"
          },
          "metadata": {}
        }
      ]
    },
    {
      "cell_type": "markdown",
      "metadata": {
        "cell_id": "3c7165491217477a897103d43cd5bd27",
        "deepnote_cell_type": "markdown",
        "id": "nTU_QZfqbVHr"
      },
      "source": [
        "Se observa que el modelo presentó una curva de pérdida decreciente a lo largo de las épocas, con un comportamiento consistente y estable. Según el gráfico, la pérdida disminuye progresivamente y tiende lentamente hacia una asíntota, lo que indica una posible convergencia del entrenamiento."
      ]
    },
    {
      "cell_type": "markdown",
      "metadata": {
        "id": "lvjMub-gq5hE",
        "cell_id": "f9be3c75c8464eec9c1fe6e652e6638d",
        "deepnote_cell_type": "markdown"
      },
      "source": [
        "### Generación del modelo"
      ]
    },
    {
      "cell_type": "markdown",
      "metadata": {
        "cell_id": "d3e17a238d0e4fe3862294c05def9369",
        "deepnote_cell_type": "markdown",
        "id": "khSpxv51bVHs"
      },
      "source": [
        "Se procede a guardar el modelo para posterior uso."
      ]
    },
    {
      "cell_type": "code",
      "metadata": {
        "id": "7rAgnNOAPfIl",
        "cell_id": "1610eb9a50b44055abc4a3b492078d2f",
        "deepnote_cell_type": "code"
      },
      "source": [
        "model_token.save(\"model_token.keras\")"
      ],
      "execution_count": null,
      "outputs": []
    },
    {
      "cell_type": "markdown",
      "metadata": {
        "cell_id": "3717ea70970b4d21b07b0ce7cf241fc9",
        "deepnote_cell_type": "markdown",
        "id": "S15qCWJObVHs"
      },
      "source": [
        "Una vez finalizado el entrenamiento, se procede a generar texto a partir del modelo utilizando diferentes valores de temperatura. La temperatura es un parámetro que controla la aleatoriedad en la predicción de la siguiente palabra: valores bajos (cercanos a 0) generan texto más conservador y predecible, mientras que valores altos producen resultados más diversos y creativos, aunque potencialmente menos coherentes."
      ]
    },
    {
      "cell_type": "code",
      "metadata": {
        "id": "VzUqYxpjqCdf",
        "colab": {
          "base_uri": "https://localhost:8080/"
        },
        "outputId": "da9f0521-016d-4f7e-8208-2350332bb869",
        "cell_id": "d6509d1638f64cd28f400db05c700a1f",
        "deepnote_cell_type": "code"
      },
      "source": [
        "# Generar texto con el modelo entrenado\n",
        "for temp in temperaturas:\n",
        "    print(f\"\\n--- Generación con temperatura: {temp} ---\")\n",
        "    texto_generado_token = generate_text_token(seed_text, model_token, tokenizer, max_sequence_len,100, temperature=temp)\n",
        "    print(\"Texto generado:\\n\", texto_generado_token)"
      ],
      "execution_count": null,
      "outputs": [
        {
          "output_type": "stream",
          "name": "stdout",
          "text": "\n--- Generación con temperatura: 0.2 ---\nTexto generado:\n o le cautivaron y rindieron el cura no es cordura el contento de los espejos y a su señora dulcinea y su grandeza la corona de la falta de la caballería y en este mesmo punto sancho panza el cual acababa en la memoria la segunda parte de don quijote y a sancho le dijo que le pareció que no le que el que le había dicho que le había dicho que le había dicho en la corte en más que no la soga quedo y a la espada contra el rucio y así que le había enviado no se en la y de la y\n\n--- Generación con temperatura: 0.5 ---\nTexto generado:\n o le cautivaron y rindieron el cura respondió sancho no quiero saber que la buena fama que me parece que la que la hizo diciendo que por el camino de la venta se fue con él estaba y se puso a leer tan y con ligero y de la ciudad de la de nápoles y así le le la y a querer a la luz de la ínsula barataria o puede ser de lo que a mi padre y no será menester para pagar a lo que ahora me la dé buena y la risa pero él hizo la misma que se le debe de ser\n\n--- Generación con temperatura: 0.8 ---\nTexto generado:\n o le cautivaron y rindieron el cura en el estandarte venía en el suelo y las mesas a sancho panza y de la colcha con llave de una de una más hermosa que se procura que estaban estaba el escribano de haber a los campos y sus camaradas y del que allí estaba dando una gran compañía con su estancia con dos en quien y en la sepultura de un gobernador de todo término y mucha señora que a nosotras las puertas del castillo y siguieron por punto de un todo también podrá y de algún principal caballero andante quise tener una gran y ahora si\n"
        }
      ]
    },
    {
      "cell_type": "markdown",
      "metadata": {
        "cell_id": "79e1c2ab3940448fa6f87c2d2ee109a5",
        "deepnote_cell_type": "markdown",
        "id": "UBRYMEwlbVHs"
      },
      "source": [
        "A pesar de que el modelo genera texto con cierta coherencia local (es decir, entre palabras o frases cercanas), se evidencia una falta de coherencia global en la mayoría de las muestras. Esto es esperable en modelos LSTM entrenados sobre secuencias palabra por palabra, especialmente cuando no se utilizan mecanismos de atención o memoria extendida. De hecho genera texto menos coherente que el modelo anterior de caracteres."
      ]
    },
    {
      "cell_type": "markdown",
      "metadata": {
        "cell_id": "3868c10d99d2439c8b04455c1e45868c",
        "deepnote_cell_type": "markdown",
        "id": "3uESRH3hbVHs"
      },
      "source": [
        "# Elección del mejor modelo"
      ]
    },
    {
      "cell_type": "markdown",
      "metadata": {
        "cell_id": "70ffb3b1671940daa5c3c3e3749aeda8",
        "deepnote_cell_type": "markdown",
        "id": "8NLh9TYxbVHs"
      },
      "source": [
        "Para la selección del mejor modelo se consideró principalmente la función de pérdida (loss) obtenida durante el entrenamiento, dado que es un indicador directo de la capacidad del modelo para predecir la siguiente unidad en la secuencia. En el caso del modelo con embedding, se pudo utilizar casi la totalidad del corpus debido a que la representación numérica es más eficiente en memoria, lo que permitió un entrenamiento con una mayor cantidad de datos y, por ende, un mejor ajuste del modelo y una mayor variedad en el vocabulario. Por lo tanto, la combinación de un loss aceptable en comparacion con el de one-hot y la posibilidad de entrenar con un volumen mayor de datos hace que el modelo con embedding sea la opción preferida para la generación de texto en este estudio."
      ]
    },
    {
      "cell_type": "markdown",
      "metadata": {
        "cell_id": "ac6d5512b4a84540a9e745964836f0b3",
        "deepnote_cell_type": "markdown",
        "id": "2PW8N1AibVHs"
      },
      "source": [
        "| Modelo                  | Configuración Principal                             | Loss Final |\n",
        "|-------------------------|-----------------------------------------------------|------------|\n",
        "| Modelo One-Hot          | Representación One-Hot, secuencias cortas           | 1.1977     |\n",
        "| Modelo con Embedding    | Embedding Layer, corpus completo, secuencias largas | 1.2592     |\n",
        "| Modelo LSTM (Tokenizado)| Tokenización por palabras, sin atención             | 1.9834     |"
      ]
    },
    {
      "cell_type": "markdown",
      "metadata": {
        "cell_id": "39b9f1a727df477ab3cb352d5302a525",
        "deepnote_cell_type": "markdown",
        "id": "3lMm-Ni5bVHs"
      },
      "source": [
        "Por lo tanto, se eligió el modelo con embedding como mejor modelo."
      ]
    }
  ],
  "nbformat": 4,
  "nbformat_minor": 0,
  "metadata": {
    "deepnote_notebook_id": "cca4d22ac86343afb9db7ac0c5a600c6",
    "colab": {
      "provenance": []
    }
  }
}